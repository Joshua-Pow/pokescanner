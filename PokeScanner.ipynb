{
  "nbformat": 4,
  "nbformat_minor": 0,
  "metadata": {
    "colab": {
      "name": "PokeScanner.ipynb",
      "provenance": [],
      "collapsed_sections": [],
      "machine_shape": "hm",
      "include_colab_link": true
    },
    "kernelspec": {
      "name": "python3",
      "display_name": "Python 3"
    },
    "language_info": {
      "name": "python"
    },
    "accelerator": "GPU",
    "widgets": {
      "application/vnd.jupyter.widget-state+json": {
        "0da71ca8263f45c2bc3578ce47a3f551": {
          "model_module": "@jupyter-widgets/controls",
          "model_name": "HBoxModel",
          "model_module_version": "1.5.0",
          "state": {
            "_dom_classes": [],
            "_model_module": "@jupyter-widgets/controls",
            "_model_module_version": "1.5.0",
            "_model_name": "HBoxModel",
            "_view_count": null,
            "_view_module": "@jupyter-widgets/controls",
            "_view_module_version": "1.5.0",
            "_view_name": "HBoxView",
            "box_style": "",
            "children": [
              "IPY_MODEL_240f3ed8662842509f8f428ca55f88c4",
              "IPY_MODEL_1837388b0e5a46488fe5605e5944cc68",
              "IPY_MODEL_9503f5e6f15f4eec93f5d8d7f92afb53"
            ],
            "layout": "IPY_MODEL_d7681064a1504743a6aa7a4a37fbd310"
          }
        },
        "240f3ed8662842509f8f428ca55f88c4": {
          "model_module": "@jupyter-widgets/controls",
          "model_name": "HTMLModel",
          "model_module_version": "1.5.0",
          "state": {
            "_dom_classes": [],
            "_model_module": "@jupyter-widgets/controls",
            "_model_module_version": "1.5.0",
            "_model_name": "HTMLModel",
            "_view_count": null,
            "_view_module": "@jupyter-widgets/controls",
            "_view_module_version": "1.5.0",
            "_view_name": "HTMLView",
            "description": "",
            "description_tooltip": null,
            "layout": "IPY_MODEL_f73e61a21b9b40ac9c2e5c3543374057",
            "placeholder": "​",
            "style": "IPY_MODEL_eba8bd9bbcf6460b989bfbcec702ef6e",
            "value": "100%"
          }
        },
        "1837388b0e5a46488fe5605e5944cc68": {
          "model_module": "@jupyter-widgets/controls",
          "model_name": "FloatProgressModel",
          "model_module_version": "1.5.0",
          "state": {
            "_dom_classes": [],
            "_model_module": "@jupyter-widgets/controls",
            "_model_module_version": "1.5.0",
            "_model_name": "FloatProgressModel",
            "_view_count": null,
            "_view_module": "@jupyter-widgets/controls",
            "_view_module_version": "1.5.0",
            "_view_name": "ProgressView",
            "bar_style": "success",
            "description": "",
            "description_tooltip": null,
            "layout": "IPY_MODEL_f5d6aba582cd425ca35a5d01539c9e9d",
            "max": 21444401,
            "min": 0,
            "orientation": "horizontal",
            "style": "IPY_MODEL_586d48c797f44d88b03cb2ba9022e6f6",
            "value": 21444401
          }
        },
        "9503f5e6f15f4eec93f5d8d7f92afb53": {
          "model_module": "@jupyter-widgets/controls",
          "model_name": "HTMLModel",
          "model_module_version": "1.5.0",
          "state": {
            "_dom_classes": [],
            "_model_module": "@jupyter-widgets/controls",
            "_model_module_version": "1.5.0",
            "_model_name": "HTMLModel",
            "_view_count": null,
            "_view_module": "@jupyter-widgets/controls",
            "_view_module_version": "1.5.0",
            "_view_name": "HTMLView",
            "description": "",
            "description_tooltip": null,
            "layout": "IPY_MODEL_72c9348e00504711aabacc1cbbe8bf83",
            "placeholder": "​",
            "style": "IPY_MODEL_20f6cedfc4e9422fbc81392e1228458b",
            "value": " 20.5M/20.5M [00:00&lt;00:00, 81.1MB/s]"
          }
        },
        "d7681064a1504743a6aa7a4a37fbd310": {
          "model_module": "@jupyter-widgets/base",
          "model_name": "LayoutModel",
          "model_module_version": "1.2.0",
          "state": {
            "_model_module": "@jupyter-widgets/base",
            "_model_module_version": "1.2.0",
            "_model_name": "LayoutModel",
            "_view_count": null,
            "_view_module": "@jupyter-widgets/base",
            "_view_module_version": "1.2.0",
            "_view_name": "LayoutView",
            "align_content": null,
            "align_items": null,
            "align_self": null,
            "border": null,
            "bottom": null,
            "display": null,
            "flex": null,
            "flex_flow": null,
            "grid_area": null,
            "grid_auto_columns": null,
            "grid_auto_flow": null,
            "grid_auto_rows": null,
            "grid_column": null,
            "grid_gap": null,
            "grid_row": null,
            "grid_template_areas": null,
            "grid_template_columns": null,
            "grid_template_rows": null,
            "height": null,
            "justify_content": null,
            "justify_items": null,
            "left": null,
            "margin": null,
            "max_height": null,
            "max_width": null,
            "min_height": null,
            "min_width": null,
            "object_fit": null,
            "object_position": null,
            "order": null,
            "overflow": null,
            "overflow_x": null,
            "overflow_y": null,
            "padding": null,
            "right": null,
            "top": null,
            "visibility": null,
            "width": null
          }
        },
        "f73e61a21b9b40ac9c2e5c3543374057": {
          "model_module": "@jupyter-widgets/base",
          "model_name": "LayoutModel",
          "model_module_version": "1.2.0",
          "state": {
            "_model_module": "@jupyter-widgets/base",
            "_model_module_version": "1.2.0",
            "_model_name": "LayoutModel",
            "_view_count": null,
            "_view_module": "@jupyter-widgets/base",
            "_view_module_version": "1.2.0",
            "_view_name": "LayoutView",
            "align_content": null,
            "align_items": null,
            "align_self": null,
            "border": null,
            "bottom": null,
            "display": null,
            "flex": null,
            "flex_flow": null,
            "grid_area": null,
            "grid_auto_columns": null,
            "grid_auto_flow": null,
            "grid_auto_rows": null,
            "grid_column": null,
            "grid_gap": null,
            "grid_row": null,
            "grid_template_areas": null,
            "grid_template_columns": null,
            "grid_template_rows": null,
            "height": null,
            "justify_content": null,
            "justify_items": null,
            "left": null,
            "margin": null,
            "max_height": null,
            "max_width": null,
            "min_height": null,
            "min_width": null,
            "object_fit": null,
            "object_position": null,
            "order": null,
            "overflow": null,
            "overflow_x": null,
            "overflow_y": null,
            "padding": null,
            "right": null,
            "top": null,
            "visibility": null,
            "width": null
          }
        },
        "eba8bd9bbcf6460b989bfbcec702ef6e": {
          "model_module": "@jupyter-widgets/controls",
          "model_name": "DescriptionStyleModel",
          "model_module_version": "1.5.0",
          "state": {
            "_model_module": "@jupyter-widgets/controls",
            "_model_module_version": "1.5.0",
            "_model_name": "DescriptionStyleModel",
            "_view_count": null,
            "_view_module": "@jupyter-widgets/base",
            "_view_module_version": "1.2.0",
            "_view_name": "StyleView",
            "description_width": ""
          }
        },
        "f5d6aba582cd425ca35a5d01539c9e9d": {
          "model_module": "@jupyter-widgets/base",
          "model_name": "LayoutModel",
          "model_module_version": "1.2.0",
          "state": {
            "_model_module": "@jupyter-widgets/base",
            "_model_module_version": "1.2.0",
            "_model_name": "LayoutModel",
            "_view_count": null,
            "_view_module": "@jupyter-widgets/base",
            "_view_module_version": "1.2.0",
            "_view_name": "LayoutView",
            "align_content": null,
            "align_items": null,
            "align_self": null,
            "border": null,
            "bottom": null,
            "display": null,
            "flex": null,
            "flex_flow": null,
            "grid_area": null,
            "grid_auto_columns": null,
            "grid_auto_flow": null,
            "grid_auto_rows": null,
            "grid_column": null,
            "grid_gap": null,
            "grid_row": null,
            "grid_template_areas": null,
            "grid_template_columns": null,
            "grid_template_rows": null,
            "height": null,
            "justify_content": null,
            "justify_items": null,
            "left": null,
            "margin": null,
            "max_height": null,
            "max_width": null,
            "min_height": null,
            "min_width": null,
            "object_fit": null,
            "object_position": null,
            "order": null,
            "overflow": null,
            "overflow_x": null,
            "overflow_y": null,
            "padding": null,
            "right": null,
            "top": null,
            "visibility": null,
            "width": null
          }
        },
        "586d48c797f44d88b03cb2ba9022e6f6": {
          "model_module": "@jupyter-widgets/controls",
          "model_name": "ProgressStyleModel",
          "model_module_version": "1.5.0",
          "state": {
            "_model_module": "@jupyter-widgets/controls",
            "_model_module_version": "1.5.0",
            "_model_name": "ProgressStyleModel",
            "_view_count": null,
            "_view_module": "@jupyter-widgets/base",
            "_view_module_version": "1.2.0",
            "_view_name": "StyleView",
            "bar_color": null,
            "description_width": ""
          }
        },
        "72c9348e00504711aabacc1cbbe8bf83": {
          "model_module": "@jupyter-widgets/base",
          "model_name": "LayoutModel",
          "model_module_version": "1.2.0",
          "state": {
            "_model_module": "@jupyter-widgets/base",
            "_model_module_version": "1.2.0",
            "_model_name": "LayoutModel",
            "_view_count": null,
            "_view_module": "@jupyter-widgets/base",
            "_view_module_version": "1.2.0",
            "_view_name": "LayoutView",
            "align_content": null,
            "align_items": null,
            "align_self": null,
            "border": null,
            "bottom": null,
            "display": null,
            "flex": null,
            "flex_flow": null,
            "grid_area": null,
            "grid_auto_columns": null,
            "grid_auto_flow": null,
            "grid_auto_rows": null,
            "grid_column": null,
            "grid_gap": null,
            "grid_row": null,
            "grid_template_areas": null,
            "grid_template_columns": null,
            "grid_template_rows": null,
            "height": null,
            "justify_content": null,
            "justify_items": null,
            "left": null,
            "margin": null,
            "max_height": null,
            "max_width": null,
            "min_height": null,
            "min_width": null,
            "object_fit": null,
            "object_position": null,
            "order": null,
            "overflow": null,
            "overflow_x": null,
            "overflow_y": null,
            "padding": null,
            "right": null,
            "top": null,
            "visibility": null,
            "width": null
          }
        },
        "20f6cedfc4e9422fbc81392e1228458b": {
          "model_module": "@jupyter-widgets/controls",
          "model_name": "DescriptionStyleModel",
          "model_module_version": "1.5.0",
          "state": {
            "_model_module": "@jupyter-widgets/controls",
            "_model_module_version": "1.5.0",
            "_model_name": "DescriptionStyleModel",
            "_view_count": null,
            "_view_module": "@jupyter-widgets/base",
            "_view_module_version": "1.2.0",
            "_view_name": "StyleView",
            "description_width": ""
          }
        }
      }
    }
  },
  "cells": [
    {
      "cell_type": "markdown",
      "metadata": {
        "id": "view-in-github",
        "colab_type": "text"
      },
      "source": [
        "<a href=\"https://colab.research.google.com/github/Joshua-Pow/pokescanner/blob/main/PokeScanner.ipynb\" target=\"_parent\"><img src=\"https://colab.research.google.com/assets/colab-badge.svg\" alt=\"Open In Colab\"/></a>"
      ]
    },
    {
      "cell_type": "markdown",
      "source": [
        "### 1. Importing libraries / Data Loading and Splitting\n",
        "\n"
      ],
      "metadata": {
        "id": "-sqsjspqPsY1"
      }
    },
    {
      "cell_type": "code",
      "source": [
        "import numpy as np\n",
        "import torch\n",
        "import torch.nn as nn\n",
        "import torch.nn.functional as F\n",
        "import torch.optim as optim\n",
        "import torchvision\n",
        "import matplotlib.pyplot as plt\n",
        "\n",
        "from torchvision import datasets, models, transforms\n",
        "from os import rename, listdir, path\n",
        "import math\n",
        "import shutil\n",
        "\n",
        "torch.manual_seed(1) # set the random seed\n",
        "\n",
        "from google.colab import drive\n",
        "drive.mount('/content/gdrive', force_remount=True) #Must have folder inside drive called PokeScanner\n",
        "\n",
        "trainingTransform = transforms.Compose([\n",
        "    transforms.CenterCrop(224),\n",
        "    transforms.ToTensor(),\n",
        "])\n",
        "\n",
        "data_transform = transforms.Compose([\n",
        "    transforms.CenterCrop(224),\n",
        "    transforms.ToTensor(),\n",
        "])"
      ],
      "metadata": {
        "id": "Ws6j7ioiPpHJ",
        "colab": {
          "base_uri": "https://localhost:8080/"
        },
        "outputId": "bb713d3d-2d3e-42ca-9f5f-7e24f0e7929e"
      },
      "execution_count": 1,
      "outputs": [
        {
          "output_type": "stream",
          "name": "stdout",
          "text": [
            "Mounted at /content/gdrive\n"
          ]
        }
      ]
    },
    {
      "cell_type": "code",
      "source": [
        "use_cuda = True\n",
        "# filePath = '/content/gdrive/MyDrive/PokeScanner' #Everyone has had this folder shared with them, Right click the folder and click \"Add shortcut to Drive\"\n",
        "\n",
        "# i = 0\n",
        "# j = 0\n",
        "# items = listdir(\"/content/gdrive/MyDrive/PokeScanner/PokemonDataCleaned\")\n",
        "# print(items)\n",
        "# for i in range (0, len(items)):\n",
        "#   if (os.path.isdir(\"/content/gdrive/MyDrive/PokeScanner/PokemonDataCleaned/\"+ items[i])):\n",
        "#     dirItems = listdir(\"/content/gdrive/MyDrive/PokeScanner/PokemonDataCleaned/\"+ items[i])\n",
        "#     trainingNumber = math.floor(len(dirItems) * 0.80) \n",
        "#     validationNumber = math.floor(len(dirItems) * 0.10)\n",
        "#     for j in range (0, len(dirItems)):\n",
        "#      if (os.path.isfile(\"/content/gdrive/MyDrive/PokeScanner/PokemonDataCleaned/\" + items[i] + \"/\" + dirItems[j])):\n",
        "#        if (j <= trainingNumber):\n",
        "#         shutil.copyfile(\"/content/gdrive/MyDrive/PokeScanner/PokemonDataCleaned/\" + items[i] + \"/\" + dirItems[j], \"/content/gdrive/MyDrive/PokeScanner/Training/\" + items[i] + \"/\" + dirItems[j])\n",
        "#        elif (j <= trainingNumber + validationNumber):\n",
        "#         shutil.copyfile(\"/content/gdrive/MyDrive/PokeScanner/PokemonDataCleaned/\" + items[i] + \"/\" + dirItems[j], \"/content/gdrive/MyDrive/PokeScanner/Validation/\" + items[i] + \"/\" + dirItems[j])\n",
        "#        else:\n",
        "#         shutil.copyfile(\"/content/gdrive/MyDrive/PokeScanner/PokemonDataCleaned/\" + items[i] + \"/\" + dirItems[j], \"/content/gdrive/MyDrive/PokeScanner/Testing/\" + items[i] + \"/\" + dirItems[j])\n",
        "\n",
        "# train_set = datasets.ImageFolder(\"/content/gdrive/MyDrive/PokeScanner/Training\")\n",
        "# validation_set = datasets.ImageFolder(\"/content/gdrive/MyDrive/PokeScanner/Validation\")\n",
        "# testing_set = datasets.ImageFolder(\"/content/gdrive/MyDrive/PokeScanner/Testing\")\n",
        "\n",
        "# print('Number of Training Images:', len(train_set))\n",
        "# print('Number of Validation Images:', len(validation_set))\n",
        "# print('Number of Testing Images:', len(testing_set))"
      ],
      "metadata": {
        "id": "4Kyp8HEg6iA1"
      },
      "execution_count": 2,
      "outputs": []
    },
    {
      "cell_type": "code",
      "source": [
        "filePath = '/content/gdrive/MyDrive/PokeScanner' #Everyone has had this folder shared with them, Right click the folder and click \"Add shortcut to Drive\"\n",
        "training_set = []\n",
        "training_set.append(datasets.ImageFolder(filePath+'/Training', transform=trainingTransform))\n",
        "training_set.append(datasets.ImageFolder(filePath+'/NewTraining', transform=trainingTransform))\n",
        "train_set = torch.utils.data.ConcatDataset(training_set) #Combine rotated data and regular data\n",
        "validation_set = datasets.ImageFolder(filePath+'/Validation', transform=data_transform)\n",
        "testing_set = datasets.ImageFolder(filePath+'/Testing', transform=data_transform)"
      ],
      "metadata": {
        "id": "h6983FGSY0n9"
      },
      "execution_count": 3,
      "outputs": []
    },
    {
      "cell_type": "markdown",
      "source": [
        "###2. Generating More Data"
      ],
      "metadata": {
        "id": "M6yrwikbUL7a"
      }
    },
    {
      "cell_type": "code",
      "source": [
        "# filePath = '/content/gdrive/MyDrive/PokeScanner/Training/'\n",
        "# items = listdir(filePath)\n",
        "\n",
        "# for i in range (0, len(items)):\n",
        "#   pokemonPath = filePath + items[i]\n",
        "#   pokeImages = listdir(pokemonPath)\n",
        "  \n",
        "#   for j in range (0, len(pokeImages)):\n",
        "#     image1 = Image.open(pokemonPath + \"/\" + pokeImages[j])\n",
        "#     image2 = image1.copy()\n",
        "#     image2 = image2.transpose(PIL.Image.FLIP_LEFT_RIGHT)\n",
        "\n",
        "#     fileName = pokeImages[j]\n",
        "#     pokemonName = fileName.split('.')\n",
        "#     image2.save(pokemonPath + \"/\" + pokemonName[0] + \"FH.jpg\")"
      ],
      "metadata": {
        "id": "8vcb_wnHVAKn"
      },
      "execution_count": 4,
      "outputs": []
    },
    {
      "cell_type": "markdown",
      "source": [
        "### 3. Model Building and Sanity Checking\n",
        "\n",
        "Build a convolutional neural network model that takes the (224x224 RGB) image as input, and predicts the pokemon"
      ],
      "metadata": {
        "id": "BTGSzk07P2m_"
      }
    },
    {
      "cell_type": "code",
      "source": [
        "import torchvision.models as models\n",
        "efficientnet_b0 = models.efficientnet_b0(pretrained=True)"
      ],
      "metadata": {
        "id": "hzGHaMNoaR1Q",
        "colab": {
          "base_uri": "https://localhost:8080/",
          "height": 67,
          "referenced_widgets": [
            "0da71ca8263f45c2bc3578ce47a3f551",
            "240f3ed8662842509f8f428ca55f88c4",
            "1837388b0e5a46488fe5605e5944cc68",
            "9503f5e6f15f4eec93f5d8d7f92afb53",
            "d7681064a1504743a6aa7a4a37fbd310",
            "f73e61a21b9b40ac9c2e5c3543374057",
            "eba8bd9bbcf6460b989bfbcec702ef6e",
            "f5d6aba582cd425ca35a5d01539c9e9d",
            "586d48c797f44d88b03cb2ba9022e6f6",
            "72c9348e00504711aabacc1cbbe8bf83",
            "20f6cedfc4e9422fbc81392e1228458b"
          ]
        },
        "outputId": "73e977a1-9902-4db9-cf49-484dc2d9f3cc"
      },
      "execution_count": 5,
      "outputs": [
        {
          "output_type": "stream",
          "name": "stderr",
          "text": [
            "Downloading: \"https://download.pytorch.org/models/efficientnet_b0_rwightman-3dd342df.pth\" to /root/.cache/torch/hub/checkpoints/efficientnet_b0_rwightman-3dd342df.pth\n"
          ]
        },
        {
          "output_type": "display_data",
          "data": {
            "text/plain": [
              "  0%|          | 0.00/20.5M [00:00<?, ?B/s]"
            ],
            "application/vnd.jupyter.widget-view+json": {
              "version_major": 2,
              "version_minor": 0,
              "model_id": "0da71ca8263f45c2bc3578ce47a3f551"
            }
          },
          "metadata": {}
        }
      ]
    },
    {
      "cell_type": "code",
      "source": [
        "batch_size  = 1\n",
        "num_workers = 1\n",
        "\n",
        "train_loader = torch.utils.data.DataLoader(train_set, batch_size=batch_size, num_workers=num_workers, shuffle=True)\n",
        "validation_loader = torch.utils.data.DataLoader(validation_set, batch_size=batch_size, num_workers=num_workers, shuffle=True)\n",
        "test_loader = torch.utils.data.DataLoader(testing_set, batch_size=batch_size, num_workers=num_workers, shuffle=True)"
      ],
      "metadata": {
        "id": "6C1uk7KnsgEI"
      },
      "execution_count": 6,
      "outputs": []
    },
    {
      "cell_type": "code",
      "source": [
        "# #This saves all the computed features at the file paths for training, testing and validation\n",
        "# pokemonTracker = [None] * 150\n",
        "# for itr in range(len(pokemonTracker)):\n",
        "#   pokemonTracker[itr] = 0\n",
        "\n",
        "# items = listdir(\"/content/gdrive/MyDrive/PokeScanner/Training/\")\n",
        "# sortedItems = sorted(items)\n",
        "\n",
        "# for img, label in iter(train_loader):\n",
        "#   features = efficientnet_b0.features(img)\n",
        "#   torch.save(features.squeeze(0), '/content/gdrive/MyDrive/PokeScanner/TrainingFeatures/' + sortedItems[label[0].item()] + '/' + sortedItems[label[0].item()] + str(pokemonTracker[label[0].item()]) + '.tensor')\n",
        "#   pokemonTracker[label[0].item()] += 1\n",
        "\n",
        "# for img, label in iter(validation_loader):\n",
        "#   features = efficientnet_b0.features(img)\n",
        "#   torch.save(features.squeeze(0), '/content/gdrive/MyDrive/PokeScanner/ValidationFeatures/' + sortedItems[label[0].item()] + '/' + sortedItems[label[0].item()] + str(pokemonTracker[label[0].item()]) + '.tensor')\n",
        "#   pokemonTracker[label[0].item()] += 1\n",
        "\n",
        "# for img, label in iter(test_loader):\n",
        "#   features = efficientnet_b0.features(img)\n",
        "#   torch.save(features.squeeze(0), '/content/gdrive/MyDrive/PokeScanner/TestingFeatures/' + sortedItems[label[0].item()] + '/' + sortedItems[label[0].item()] + str(pokemonTracker[label[0].item()]) + '.tensor')\n",
        "#   pokemonTracker[label[0].item()] += 1"
      ],
      "metadata": {
        "id": "ECAwnXu3sxkm"
      },
      "execution_count": 7,
      "outputs": []
    },
    {
      "cell_type": "code",
      "source": [
        "class PokemonClassifier(nn.Module):\n",
        "    def __init__(self):\n",
        "        super(PokemonClassifier, self).__init__()\n",
        "        self.fc1 = nn.Linear(62720, 900)\n",
        "        self.fc2 = nn.Linear(900, 150)\n",
        "\n",
        "    def forward(self, x):\n",
        "        x = x.view(-1, 62720) #flatten feature data\n",
        "        x = F.relu(self.fc1(x))\n",
        "        x = self.fc2(x)\n",
        "        return x"
      ],
      "metadata": {
        "id": "j8v_N94OP1LD"
      },
      "execution_count": 8,
      "outputs": []
    },
    {
      "cell_type": "code",
      "source": [
        "transferNetTrain = datasets.DatasetFolder('/content/gdrive/MyDrive/PokeScanner/TrainingFeatures', loader=torch.load, extensions=('.tensor'))\n",
        "transferNetValid = datasets.DatasetFolder('/content/gdrive/MyDrive/PokeScanner/ValidationFeatures', loader=torch.load, extensions=('.tensor'))\n",
        "transferNetTest = datasets.DatasetFolder('/content/gdrive/MyDrive/PokeScanner/TestingFeatures', loader=torch.load, extensions=('.tensor'))"
      ],
      "metadata": {
        "id": "LKHHayFCqaQK"
      },
      "execution_count": 9,
      "outputs": []
    },
    {
      "cell_type": "code",
      "source": [
        "#From tut3a\n",
        "def get_accuracy(model, accuracy_data, batch_size):\n",
        "    correct = 0\n",
        "    total = 0\n",
        "    for imgs, labels in torch.utils.data.DataLoader(accuracy_data, batch_size=batch_size):\n",
        "        \n",
        "        \n",
        "        #############################################\n",
        "        #To Enable GPU Usage\n",
        "        if use_cuda and torch.cuda.is_available():\n",
        "          imgs = imgs.cuda()\n",
        "          labels = labels.cuda()\n",
        "        else:\n",
        "          print(\"get_accuracy: no cuda\")\n",
        "        #############################################\n",
        "        \n",
        "        \n",
        "        output = model(imgs)\n",
        "        \n",
        "        #select index with maximum prediction score\n",
        "        pred = output.max(1, keepdim=True)[1]\n",
        "        correct += pred.eq(labels.view_as(pred)).sum().item()\n",
        "        total += imgs.shape[0]\n",
        "    return correct / total"
      ],
      "metadata": {
        "id": "W4tMq-H09Tpo"
      },
      "execution_count": 10,
      "outputs": []
    },
    {
      "cell_type": "code",
      "source": [
        "#From tut3a\n",
        "def train(model, data, size, num_epochs, learning_rate):\n",
        "    train_loader = torch.utils.data.DataLoader(data, batch_size=size, shuffle=True)\n",
        "    criterion = nn.CrossEntropyLoss()\n",
        "    optimizer = optim.SGD(model.parameters(), lr=learning_rate, momentum=0.9)\n",
        "\n",
        "    iters, losses, train_acc, val_acc, epochList = [], [], [], [], []\n",
        "    # training\n",
        "    n = 0 # the number of iterations\n",
        "    for epoch in range(num_epochs):\n",
        "        for imgs, labels in iter(train_loader):\n",
        "\n",
        "            #############################################\n",
        "            #To Enable GPU Usage\n",
        "            if use_cuda and torch.cuda.is_available():\n",
        "              imgs = imgs.cuda()\n",
        "              labels = labels.cuda()\n",
        "            else:\n",
        "              print(\"Train: no cuda\")\n",
        "            #############################################\n",
        "            # print(\"img: \", imgs.shape)\n",
        "            # print(\"label: \", labels)\n",
        "            out = model(imgs)             # forward pass\n",
        "            \n",
        "            loss = criterion(out, labels) # compute the total loss\n",
        "            loss.backward()               # backward pass (compute parameter updates)\n",
        "            optimizer.step()              # make the updates for each parameter\n",
        "            optimizer.zero_grad()         # a clean up step for PyTorch\n",
        "\n",
        "            # save the current training information\n",
        "            iters.append(n)\n",
        "            losses.append(float(loss)/size)             # compute *average* loss\n",
        "            n += 1\n",
        "        train_acc.append(get_accuracy(model, accuracy_data=data, batch_size=size)) # compute training accuracy \n",
        "        val_acc.append(get_accuracy(model, accuracy_data=transferNetValid, batch_size=size))  # compute validation accuracy\n",
        "        epochList.append(epoch)\n",
        "        print(\"Epoch {}: Training Accuracy: {} Validation Accuracy: {}\".format(epoch, train_acc[epoch], val_acc[epoch]))\n",
        "    \n",
        "    # plotting\n",
        "    plt.title(\"Training Curve\")\n",
        "    plt.plot(iters, losses, label=\"Train\")\n",
        "    plt.xlabel(\"Iterations\")\n",
        "    plt.ylabel(\"Loss\")\n",
        "    plt.show()\n",
        "\n",
        "    plt.title(\"Training Curve\")\n",
        "    plt.plot(epochList, train_acc, label=\"Train\")\n",
        "    plt.plot(epochList, val_acc, label=\"Validation\")\n",
        "    plt.xlabel(\"Iterations\")\n",
        "    plt.ylabel(\"Training Accuracy\")\n",
        "    plt.legend(loc='best')\n",
        "    plt.show()\n",
        "\n",
        "    print(\"Final Training Accuracy: {}\".format(train_acc[-1]))\n",
        "    print(\"Final Validation Accuracy: {}\".format(val_acc[-1]))\n",
        "  \n"
      ],
      "metadata": {
        "id": "sorZBi_L9SdE"
      },
      "execution_count": 11,
      "outputs": []
    },
    {
      "cell_type": "code",
      "source": [
        "model = PokemonClassifier()\n",
        "\n",
        "#proper model\n",
        "#############################################\n",
        "#To Enable GPU Usage\n",
        "if use_cuda and torch.cuda.is_available():\n",
        "  model.cuda()\n",
        "  print(\"Cuda!\")\n",
        "#############################################\n",
        "\n",
        "#Basic first attempt at training\n",
        "#train(model, transferNetTrain, size=64, num_epochs=10, learning_rate=0.001)"
      ],
      "metadata": {
        "id": "9WDrZfbl9Yai",
        "colab": {
          "base_uri": "https://localhost:8080/"
        },
        "outputId": "b506b663-682e-440d-f4cb-1f41c0089bbc"
      },
      "execution_count": 12,
      "outputs": [
        {
          "output_type": "stream",
          "name": "stdout",
          "text": [
            "Cuda!\n"
          ]
        }
      ]
    },
    {
      "cell_type": "code",
      "source": [
        "PATH = \"/content/gdrive/MyDrive/PokeScanner/FinalModel1.pt\"\n",
        "#torch.save(model, PATH)"
      ],
      "metadata": {
        "id": "U2BqemPGBV20"
      },
      "execution_count": 13,
      "outputs": []
    },
    {
      "cell_type": "code",
      "source": [
        "model.eval()\n",
        "get_accuracy(model, transferNetTest, 64)"
      ],
      "metadata": {
        "id": "E_ZTLTBbBY0n"
      },
      "execution_count": null,
      "outputs": []
    },
    {
      "cell_type": "code",
      "source": [
        "model = torch.load(PATH)"
      ],
      "metadata": {
        "id": "9cW1OGV3jHZT"
      },
      "execution_count": 15,
      "outputs": []
    },
    {
      "cell_type": "code",
      "source": [
        "from PIL import Image\n",
        "model.cuda()\n",
        "model.eval()\n",
        "# Read a PIL image\n",
        "imgs = []\n",
        "# imgs.append(Image.open('/content/gdrive/MyDrive/PokeScanner/char1.jpg'))\n",
        "# imgs.append(Image.open('/content/gdrive/MyDrive/PokeScanner/char2.jpg'))\n",
        "# imgs.append(Image.open('/content/gdrive/MyDrive/PokeScanner/char3.jpg'))\n",
        "# imgs.append(Image.open('/content/gdrive/MyDrive/PokeScanner/squirtle.jpg'))\n",
        "# imgs.append(Image.open('/content/gdrive/MyDrive/PokeScanner/wartortle.jpg'))\n",
        "# imgs.append(Image.open('/content/gdrive/MyDrive/PokeScanner/blastoise.jpeg'))\n",
        "imgs.append(Image.open('/content/gdrive/MyDrive/PokeScanner/squirtle.jpg'))\n",
        "  \n",
        "# Define a transform to convert PIL \n",
        "# image to a Torch tensor\n",
        "transform = transforms.Compose([\n",
        "  transforms.Resize(256),                 \n",
        "  transforms.CenterCrop(224),        \n",
        "  transforms.ToTensor(),        \n",
        "  transforms.Normalize(mean=[0.485, 0.456, 0.406], std=[0.229, 0.224, 0.225])\n",
        "])\n",
        "\n",
        "for image in imgs:\n",
        "  # transform = transforms.PILToTensor()\n",
        "  # Convert the PIL image to Torch tensor\n",
        "  img_tensor = transform(image)\n",
        "    \n",
        "  # print the converted Torch tensor\n",
        "  img_tensor.cuda()\n",
        "  batch_t = torch.unsqueeze(img_tensor, 0)\n",
        "  features = efficientnet_b0.features(batch_t)\n",
        "  out = model(features.cuda().squeeze(0))\n",
        "  temp = torch.sigmoid(out)\n",
        "  temp = nn.Softmax(dim=1)(temp)\n",
        "  pred = temp.max(1, keepdim=True)[1]\n",
        "\n",
        "  items = listdir(\"/content/gdrive/MyDrive/PokeScanner/Training/\")\n",
        "  sortedItems = sorted(items)\n",
        "  res, ind = torch.topk(temp, 3)\n",
        "  print(\"Most probable: \", sortedItems[ind[0][0]])\n",
        "  print(\"Second most probable: \",sortedItems[ind[0][1]])\n",
        "  print(\"Third most probable: \",sortedItems[ind[0][2]])\n",
        "  imag = image.rotate(0)\n",
        "  plt.imshow(imag)\n",
        "  "
      ],
      "metadata": {
        "colab": {
          "base_uri": "https://localhost:8080/",
          "height": 291
        },
        "id": "DLxlX0iiLbDy",
        "outputId": "4a54e29d-b458-4123-be9e-d052ed202cd5"
      },
      "execution_count": 248,
      "outputs": [
        {
          "output_type": "stream",
          "name": "stdout",
          "text": [
            "Most probable:  Wartortle\n",
            "Second most probable:  Machop\n",
            "Third most probable:  Cubone\n"
          ]
        },
        {
          "output_type": "display_data",
          "data": {
            "text/plain": [
              "<Figure size 432x288 with 1 Axes>"
            ],
            "image/png": "[encoded data removed]"
          },
          "metadata": {
            "needs_background": "light"
          }
        }
      ]
    },
    {
      "cell_type": "code",
      "source": [
        "model = torch.load(PATH)\n",
        "\n",
        "model.eval()\n",
        "get_accuracy(model, transferNetTest, 64)"
      ],
      "metadata": {
        "colab": {
          "base_uri": "https://localhost:8080/"
        },
        "id": "z9t4pAL7JKP4",
        "outputId": "e221e566-ca64-4189-bd4d-f692efda59df"
      },
      "execution_count": 175,
      "outputs": [
        {
          "output_type": "execute_result",
          "data": {
            "text/plain": [
              "0.702865761689291"
            ]
          },
          "metadata": {},
          "execution_count": 175
        }
      ]
    }
  ]
}