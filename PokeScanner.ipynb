{
  "nbformat": 4,
  "nbformat_minor": 0,
  "metadata": {
    "colab": {
      "name": "PokeScanner.ipynb",
      "provenance": [],
      "collapsed_sections": []
    },
    "kernelspec": {
      "name": "python3",
      "display_name": "Python 3"
    },
    "language_info": {
      "name": "python"
    },
    "accelerator": "GPU"
  },
  "cells": [
    {
      "cell_type": "markdown",
      "source": [
        "### 1. Importing libraries / Data Loading and Splitting\n",
        "\n"
      ],
      "metadata": {
        "id": "-sqsjspqPsY1"
      }
    },
    {
      "cell_type": "code",
      "source": [
        "import numpy as np\n",
        "import torch\n",
        "import torch.nn as nn\n",
        "import torch.nn.functional as F\n",
        "import torch.optim as optim\n",
        "import torchvision\n",
        "import matplotlib.pyplot as plt\n",
        "\n",
        "from torchvision import datasets, models, transforms\n",
        "from os import rename, listdir, path\n",
        "import math\n",
        "import shutil\n",
        "\n",
        "torch.manual_seed(1) # set the random seed\n",
        "\n",
        "from google.colab import drive\n",
        "drive.mount('/content/gdrive', force_remount=True) #Must have folder inside drive called PokeScanner\n",
        "\n",
        "data_transform = transforms.Compose([\n",
        "    # you can add other transformations in this list\n",
        "    #transforms.Resize(250),\n",
        "    transforms.ToTensor()\n",
        "])"
      ],
      "metadata": {
        "id": "Ws6j7ioiPpHJ",
        "colab": {
          "base_uri": "https://localhost:8080/"
        },
        "outputId": "106d2042-fa09-4a60-edba-31a68a601197"
      },
      "execution_count": 1,
      "outputs": [
        {
          "output_type": "stream",
          "name": "stdout",
          "text": [
            "Mounted at /content/gdrive\n"
          ]
        }
      ]
    },
    {
      "cell_type": "code",
      "source": [
        "use_cuda = True\n",
        "# filePath = '/content/gdrive/MyDrive/PokeScanner' #Everyone has had this folder shared with them, Right click the folder and click \"Add shortcut to Drive\"\n",
        "\n",
        "# i = 0\n",
        "# j = 0\n",
        "# items = listdir(\"/content/gdrive/MyDrive/PokeScanner/PokemonDataCleaned\")\n",
        "# print(items)\n",
        "# for i in range (0, len(items)):\n",
        "#   if (os.path.isdir(\"/content/gdrive/MyDrive/PokeScanner/PokemonDataCleaned/\"+ items[i])):\n",
        "#     dirItems = listdir(\"/content/gdrive/MyDrive/PokeScanner/PokemonDataCleaned/\"+ items[i])\n",
        "#     trainingNumber = math.floor(len(dirItems) * 0.80) \n",
        "#     validationNumber = math.floor(len(dirItems) * 0.10)\n",
        "#     for j in range (0, len(dirItems)):\n",
        "#      if (os.path.isfile(\"/content/gdrive/MyDrive/PokeScanner/PokemonDataCleaned/\" + items[i] + \"/\" + dirItems[j])):\n",
        "#        if (j <= trainingNumber):\n",
        "#         shutil.copyfile(\"/content/gdrive/MyDrive/PokeScanner/PokemonDataCleaned/\" + items[i] + \"/\" + dirItems[j], \"/content/gdrive/MyDrive/PokeScanner/Training/\" + items[i] + \"/\" + dirItems[j])\n",
        "#        elif (j <= trainingNumber + validationNumber):\n",
        "#         shutil.copyfile(\"/content/gdrive/MyDrive/PokeScanner/PokemonDataCleaned/\" + items[i] + \"/\" + dirItems[j], \"/content/gdrive/MyDrive/PokeScanner/Validation/\" + items[i] + \"/\" + dirItems[j])\n",
        "#        else:\n",
        "#         shutil.copyfile(\"/content/gdrive/MyDrive/PokeScanner/PokemonDataCleaned/\" + items[i] + \"/\" + dirItems[j], \"/content/gdrive/MyDrive/PokeScanner/Testing/\" + items[i] + \"/\" + dirItems[j])\n",
        "\n",
        "# train_set = datasets.ImageFolder(\"/content/gdrive/MyDrive/PokeScanner/Training\")\n",
        "# validation_set = datasets.ImageFolder(\"/content/gdrive/MyDrive/PokeScanner/Validation\")\n",
        "# testing_set = datasets.ImageFolder(\"/content/gdrive/MyDrive/PokeScanner/Testing\")\n",
        "\n",
        "# print('Number of Training Images:', len(train_set))\n",
        "# print('Number of Validation Images:', len(validation_set))\n",
        "# print('Number of Testing Images:', len(testing_set))"
      ],
      "metadata": {
        "id": "4Kyp8HEg6iA1"
      },
      "execution_count": 2,
      "outputs": []
    },
    {
      "cell_type": "code",
      "source": [
        "filePath = '/content/gdrive/MyDrive/PokeScanner' #Everyone has had this folder shared with them, Right click the folder and click \"Add shortcut to Drive\"\n",
        "train_set = datasets.ImageFolder(filePath+'/Training', transform=data_transform)\n",
        "validation_set = datasets.ImageFolder(filePath+'/Validation', transform=data_transform)\n",
        "testing_set = datasets.ImageFolder(filePath+'/Testing', transform=data_transform)"
      ],
      "metadata": {
        "id": "h6983FGSY0n9"
      },
      "execution_count": 3,
      "outputs": []
    },
    {
      "cell_type": "markdown",
      "source": [
        "###2. Generating More Data"
      ],
      "metadata": {
        "id": "M6yrwikbUL7a"
      }
    },
    {
      "cell_type": "code",
      "source": [
        "# filePath = '/content/gdrive/MyDrive/PokeScanner/Training/'\n",
        "# items = listdir(filePath)\n",
        "\n",
        "# for i in range (0, len(items)):\n",
        "#   pokemonPath = filePath + items[i]\n",
        "#   pokeImages = listdir(pokemonPath)\n",
        "  \n",
        "#   for j in range (0, len(pokeImages)):\n",
        "#     image1 = Image.open(pokemonPath + \"/\" + pokeImages[j])\n",
        "#     image2 = image1.copy()\n",
        "#     image2 = image2.transpose(PIL.Image.FLIP_LEFT_RIGHT)\n",
        "\n",
        "#     fileName = pokeImages[j]\n",
        "#     pokemonName = fileName.split('.')\n",
        "#     image2.save(pokemonPath + \"/\" + pokemonName[0] + \"FH.jpg\")"
      ],
      "metadata": {
        "id": "8vcb_wnHVAKn"
      },
      "execution_count": null,
      "outputs": []
    },
    {
      "cell_type": "markdown",
      "source": [
        "### 3. Model Building and Sanity Checking\n",
        "\n",
        "Build a convolutional neural network model that takes the (224x224 RGB) image as input, and predicts the pokemon"
      ],
      "metadata": {
        "id": "BTGSzk07P2m_"
      }
    },
    {
      "cell_type": "code",
      "source": [
        "class PokemonClassifier(nn.Module):\n",
        "      def __init__(self, kernel_size):\n",
        "          super(PokemonClassifier, self).__init__()\n",
        "          self.conv1 = nn.Conv2d(3, 5, kernel_size) #in_channels, out_chanels, kernel_size\n",
        "          self.pool = nn.MaxPool2d(2, 2) #kernel_size, stride \n",
        "          self.conv2 = nn.Conv2d(5, 10, kernel_size) #in_channels, out_chanels, kernel_size\n",
        "          shape = math.floor((251 - kernel_size - 2) / 2) + 1\n",
        "          shape2 = math.floor((shape - kernel_size - 1) / 2) + 1\n",
        "          self.fc1 = nn.Linear(10 * shape2 * shape2, 32) #needs input-dependent value\n",
        "          self.fc2 = nn.Linear(32, 150)\n",
        "\n",
        "      def forward(self, x):\n",
        "          x = self.pool(F.relu(self.conv1(x)))\n",
        "          #print(x.shape)\n",
        "          x = self.pool(F.relu(self.conv2(x)))\n",
        "          #print(x.shape)\n",
        "          x = x.view(-1, 10 * x.shape[2] * x.shape[2])\n",
        "          #print(x.shape)\n",
        "          x = F.relu(self.fc1(x))\n",
        "          #print(x.shape)\n",
        "          x = self.fc2(x)\n",
        "          #print(x.shape)\n",
        "          return x"
      ],
      "metadata": {
        "id": "j8v_N94OP1LD"
      },
      "execution_count": 4,
      "outputs": []
    },
    {
      "cell_type": "code",
      "source": [
        "#From tut3a\n",
        "def get_accuracy(model, accuracy_data, batch_size):\n",
        "    correct = 0\n",
        "    total = 0\n",
        "    for imgs, labels in torch.utils.data.DataLoader(accuracy_data, batch_size=batch_size):\n",
        "        \n",
        "        \n",
        "        #############################################\n",
        "        #To Enable GPU Usage\n",
        "        if use_cuda and torch.cuda.is_available():\n",
        "          imgs = imgs.cuda()\n",
        "          labels = labels.cuda()\n",
        "        else:\n",
        "          print(\"get_accuracy: no cuda\")\n",
        "        #############################################\n",
        "        \n",
        "        \n",
        "        output = model(imgs)\n",
        "        \n",
        "        #select index with maximum prediction score\n",
        "        pred = output.max(1, keepdim=True)[1]\n",
        "        correct += pred.eq(labels.view_as(pred)).sum().item()\n",
        "        total += imgs.shape[0]\n",
        "    return correct / total"
      ],
      "metadata": {
        "id": "W4tMq-H09Tpo"
      },
      "execution_count": 5,
      "outputs": []
    },
    {
      "cell_type": "code",
      "source": [
        "#From tut3a\n",
        "def train(model, data, size, num_epochs, learning_rate):\n",
        "    train_loader = torch.utils.data.DataLoader(data, batch_size=size, shuffle=True)\n",
        "    criterion = nn.CrossEntropyLoss()\n",
        "    optimizer = optim.SGD(model.parameters(), lr=learning_rate, momentum=0.9)\n",
        "\n",
        "    iters, losses, train_acc, val_acc, epochList = [], [], [], [], []\n",
        "\n",
        "    # training\n",
        "    n = 0 # the number of iterations\n",
        "    for epoch in range(num_epochs):\n",
        "        for imgs, labels in iter(train_loader):\n",
        "\n",
        "            #############################################\n",
        "            #To Enable GPU Usage\n",
        "            if use_cuda and torch.cuda.is_available():\n",
        "              imgs = imgs.cuda()\n",
        "              labels = labels.cuda()\n",
        "            else:\n",
        "              print(\"Train: no cuda\")\n",
        "            #############################################\n",
        "            # print(\"img: \", imgs.shape)\n",
        "            # print(\"label: \", labels)\n",
        "            out = model(imgs)             # forward pass\n",
        "            \n",
        "            loss = criterion(out, labels) # compute the total loss\n",
        "            loss.backward()               # backward pass (compute parameter updates)\n",
        "            optimizer.step()              # make the updates for each parameter\n",
        "            optimizer.zero_grad()         # a clean up step for PyTorch\n",
        "\n",
        "            # save the current training information\n",
        "            iters.append(n)\n",
        "            losses.append(float(loss)/size)             # compute *average* loss\n",
        "            n += 1\n",
        "        train_acc.append(get_accuracy(model, accuracy_data=train_set, batch_size=size)) # compute training accuracy \n",
        "        val_acc.append(get_accuracy(model, accuracy_data=validation_set, batch_size=size))  # compute validation accuracy\n",
        "        epochList.append(epoch)\n",
        "        print(\"Epoch {}: Training Accuracy: {} Validation Accuracy: {}\".format(epoch, train_acc[epoch], val_acc[epoch]))\n",
        "    \n",
        "    # plotting\n",
        "    plt.title(\"Training Curve\")\n",
        "    plt.plot(iters, losses, label=\"Train\")\n",
        "    plt.xlabel(\"Iterations\")\n",
        "    plt.ylabel(\"Loss\")\n",
        "    plt.show()\n",
        "\n",
        "    plt.title(\"Training Curve\")\n",
        "    plt.plot(epochList, train_acc, label=\"Train\")\n",
        "    plt.plot(epochList, val_acc, label=\"Validation\")\n",
        "    plt.xlabel(\"Iterations\")\n",
        "    plt.ylabel(\"Training Accuracy\")\n",
        "    plt.legend(loc='best')\n",
        "    plt.show()\n",
        "\n",
        "    print(\"Final Training Accuracy: {}\".format(train_acc[-1]))\n",
        "    print(\"Final Validation Accuracy: {}\".format(val_acc[-1]))\n",
        "  \n"
      ],
      "metadata": {
        "id": "sorZBi_L9SdE"
      },
      "execution_count": 6,
      "outputs": []
    },
    {
      "cell_type": "code",
      "source": [
        "model = PokemonClassifier(3)\n",
        "\n",
        "#proper model\n",
        "#############################################\n",
        "#To Enable GPU Usage\n",
        "if use_cuda and torch.cuda.is_available():\n",
        "  model.cuda()\n",
        "  print(\"cuda\")\n",
        "#############################################\n",
        "\n",
        "#Basic first attempt at training\n",
        "train(model, train_set, size=64, num_epochs=50, learning_rate=0.0005)"
      ],
      "metadata": {
        "id": "9WDrZfbl9Yai",
        "colab": {
          "base_uri": "https://localhost:8080/",
          "height": 1000
        },
        "outputId": "b85e9068-c428-4cfe-d6c5-32a4f586daf1"
      },
      "execution_count": 8,
      "outputs": [
        {
          "output_type": "stream",
          "name": "stdout",
          "text": [
            "cuda\n",
            "Epoch 0: Training Accuracy: 0.006166122597025753 Validation Accuracy: 0.008237232289950576\n",
            "Epoch 1: Training Accuracy: 0.009521218715995648 Validation Accuracy: 0.011532125205930808\n",
            "Epoch 2: Training Accuracy: 0.011425462459194777 Validation Accuracy: 0.011532125205930808\n",
            "Epoch 3: Training Accuracy: 0.00997461008342401 Validation Accuracy: 0.004118616144975288\n",
            "Epoch 4: Training Accuracy: 0.012966993108451215 Validation Accuracy: 0.009884678747940691\n",
            "Epoch 5: Training Accuracy: 0.021944142183532824 Validation Accuracy: 0.016474464579901153\n",
            "Epoch 6: Training Accuracy: 0.027022125498730506 Validation Accuracy: 0.016474464579901153\n",
            "Epoch 7: Training Accuracy: 0.03527384838592673 Validation Accuracy: 0.028830313014827018\n",
            "Epoch 8: Training Accuracy: 0.04452303228146536 Validation Accuracy: 0.05271828665568369\n",
            "Epoch 9: Training Accuracy: 0.07752992383025027 Validation Accuracy: 0.08813838550247118\n",
            "Epoch 10: Training Accuracy: 0.09303590859630033 Validation Accuracy: 0.09555189456342669\n",
            "Epoch 11: Training Accuracy: 0.13801233224519405 Validation Accuracy: 0.11449752883031301\n",
            "Epoch 12: Training Accuracy: 0.18008705114254625 Validation Accuracy: 0.1457990115321252\n",
            "Epoch 13: Training Accuracy: 0.24111352919840406 Validation Accuracy: 0.1630971993410214\n",
            "Epoch 14: Training Accuracy: 0.2686797243380486 Validation Accuracy: 0.20345963756177923\n",
            "Epoch 15: Training Accuracy: 0.3260790714544795 Validation Accuracy: 0.23064250411861614\n",
            "Epoch 16: Training Accuracy: 0.36253173739572 Validation Accuracy: 0.257825370675453\n",
            "Epoch 17: Training Accuracy: 0.3754080522306855 Validation Accuracy: 0.257825370675453\n",
            "Epoch 18: Training Accuracy: 0.42908959013420384 Validation Accuracy: 0.2981878088962109\n",
            "Epoch 19: Training Accuracy: 0.44813202756619513 Validation Accuracy: 0.3130148270181219\n",
            "Epoch 20: Training Accuracy: 0.4842219804134929 Validation Accuracy: 0.32537067545304776\n",
            "Epoch 21: Training Accuracy: 0.5057127312295974 Validation Accuracy: 0.3467874794069193\n",
            "Epoch 22: Training Accuracy: 0.5251178817555314 Validation Accuracy: 0.3517298187808896\n",
            "Epoch 23: Training Accuracy: 0.5665578527384839 Validation Accuracy: 0.3698517298187809\n",
            "Epoch 24: Training Accuracy: 0.5846935074356184 Validation Accuracy: 0.35914332784184516\n",
            "Epoch 25: Training Accuracy: 0.5896808124773304 Validation Accuracy: 0.36326194398682043\n",
            "Epoch 26: Training Accuracy: 0.6383750453391367 Validation Accuracy: 0.3797364085667216\n",
            "Epoch 27: Training Accuracy: 0.6259521218715995 Validation Accuracy: 0.37397034596375617\n",
            "Epoch 28: Training Accuracy: 0.6579615524120421 Validation Accuracy: 0.38879736408566723\n",
            "Epoch 29: Training Accuracy: 0.7043888284367066 Validation Accuracy: 0.41186161449752884\n",
            "Epoch 30: Training Accuracy: 0.6643997098295249 Validation Accuracy: 0.3723228995057661\n",
            "Epoch 31: Training Accuracy: 0.7324990932172651 Validation Accuracy: 0.4110378912685338\n",
            "Epoch 32: Training Accuracy: 0.7499093217265144 Validation Accuracy: 0.40774299835255357\n",
            "Epoch 33: Training Accuracy: 0.7624229234675372 Validation Accuracy: 0.4085667215815486\n",
            "Epoch 34: Training Accuracy: 0.7998730504171201 Validation Accuracy: 0.42174629324546953\n",
            "Epoch 35: Training Accuracy: 0.8034095030830612 Validation Accuracy: 0.41927512355848434\n",
            "Epoch 36: Training Accuracy: 0.8262604280014508 Validation Accuracy: 0.4184514003294893\n",
            "Epoch 37: Training Accuracy: 0.8283460282916213 Validation Accuracy: 0.40691927512355847\n",
            "Epoch 38: Training Accuracy: 0.8564562930721799 Validation Accuracy: 0.4159802306425041\n",
            "Epoch 39: Training Accuracy: 0.8527384838592673 Validation Accuracy: 0.4060955518945634\n",
            "Epoch 40: Training Accuracy: 0.8865614798694232 Validation Accuracy: 0.40691927512355847\n",
            "Epoch 41: Training Accuracy: 0.8840224882118245 Validation Accuracy: 0.3953871499176277\n",
            "Epoch 42: Training Accuracy: 0.9088683351468988 Validation Accuracy: 0.4135090609555189\n",
            "Epoch 43: Training Accuracy: 0.89689880304679 Validation Accuracy: 0.3986820428336079\n",
            "Epoch 44: Training Accuracy: 0.8902792890823359 Validation Accuracy: 0.4052718286655684\n",
            "Epoch 45: Training Accuracy: 0.8959013420384476 Validation Accuracy: 0.3912685337726524\n",
            "Epoch 46: Training Accuracy: 0.9441421835328255 Validation Accuracy: 0.4060955518945634\n",
            "Epoch 47: Training Accuracy: 0.9579252811026479 Validation Accuracy: 0.42174629324546953\n",
            "Epoch 48: Training Accuracy: 0.9624591947769314 Validation Accuracy: 0.4233937397034596\n",
            "Epoch 49: Training Accuracy: 0.9644541167936163 Validation Accuracy: 0.4233937397034596\n"
          ]
        },
        {
          "output_type": "display_data",
          "data": {
            "text/plain": [
              "<Figure size 432x288 with 1 Axes>"
            ],
            "image/png": "[encoded data removed]"
          },
          "metadata": {
            "needs_background": "light"
          }
        },
        {
          "output_type": "display_data",
          "data": {
            "text/plain": [
              "<Figure size 432x288 with 1 Axes>"
            ],
            "image/png": "[encoded data removed]"
          },
          "metadata": {
            "needs_background": "light"
          }
        },
        {
          "output_type": "stream",
          "name": "stdout",
          "text": [
            "Final Training Accuracy: 0.9644541167936163\n",
            "Final Validation Accuracy: 0.4233937397034596\n"
          ]
        }
      ]
    },
    {
      "cell_type": "code",
      "source": [
        "model = PokemonClassifier(3)\n",
        "\n",
        "#proper model\n",
        "#############################################\n",
        "#To Enable GPU Usage\n",
        "if use_cuda and torch.cuda.is_available():\n",
        "  model.cuda()\n",
        "  print(\"cuda\")\n",
        "#############################################\n",
        "\n",
        "#Basic first attempt at training\n",
        "train(model, train_set, size=32, num_epochs=50, learning_rate=0.002)"
      ],
      "metadata": {
        "id": "C5kHFUBC4drE",
        "outputId": "3d532408-a575-4f3d-dcdd-0a984cb4bb34",
        "colab": {
          "base_uri": "https://localhost:8080/",
          "height": 971
        }
      },
      "execution_count": 9,
      "outputs": [
        {
          "output_type": "stream",
          "name": "stdout",
          "text": [
            "cuda\n",
            "Epoch 0: Training Accuracy: 0.007526296699310845 Validation Accuracy: 0.008237232289950576\n",
            "Epoch 1: Training Accuracy: 0.008342401160681901 Validation Accuracy: 0.007413509060955519\n",
            "Epoch 2: Training Accuracy: 0.01405513239027929 Validation Accuracy: 0.018121911037891267\n",
            "Epoch 3: Training Accuracy: 0.015868697859992745 Validation Accuracy: 0.011532125205930808\n",
            "Epoch 4: Training Accuracy: 0.024483133841131665 Validation Accuracy: 0.02471169686985173\n",
            "Epoch 5: Training Accuracy: 0.0397170837867247 Validation Accuracy: 0.044481054365733116\n",
            "Epoch 6: Training Accuracy: 0.04688066739209285 Validation Accuracy: 0.03789126853377265\n",
            "Epoch 7: Training Accuracy: 0.06728327892636925 Validation Accuracy: 0.07413509060955518\n",
            "Epoch 8: Training Accuracy: 0.10500544069640914 Validation Accuracy: 0.10049423393739704\n",
            "Epoch 9: Training Accuracy: 0.13275299238302501 Validation Accuracy: 0.12355848434925865\n",
            "Epoch 10: Training Accuracy: 0.176278563656148 Validation Accuracy: 0.15650741350906094\n",
            "Epoch 11: Training Accuracy: 0.21236851650344576 Validation Accuracy: 0.2042833607907743\n",
            "Epoch 12: Training Accuracy: 0.24882118244468626 Validation Accuracy: 0.21087314662273476\n",
            "Epoch 13: Training Accuracy: 0.27475516866158867 Validation Accuracy: 0.22240527182866557\n",
            "Epoch 14: Training Accuracy: 0.3148349655422561 Validation Accuracy: 0.2545304777594728\n",
            "Epoch 15: Training Accuracy: 0.36225970257526297 Validation Accuracy: 0.2800658978583196\n",
            "Epoch 16: Training Accuracy: 0.37005803409503085 Validation Accuracy: 0.2841845140032949\n",
            "Epoch 17: Training Accuracy: 0.35863257163583606 Validation Accuracy: 0.27100494233937394\n",
            "Epoch 18: Training Accuracy: 0.3965360899528473 Validation Accuracy: 0.3187808896210873\n",
            "Epoch 19: Training Accuracy: 0.42500906782734854 Validation Accuracy: 0.30807248764415157\n",
            "Epoch 20: Training Accuracy: 0.4174827711280377 Validation Accuracy: 0.3014827018121911\n",
            "Epoch 21: Training Accuracy: 0.46436343852013057 Validation Accuracy: 0.3130148270181219\n",
            "Epoch 22: Training Accuracy: 0.4885745375408052 Validation Accuracy: 0.3319604612850082\n",
            "Epoch 23: Training Accuracy: 0.5120602103735945 Validation Accuracy: 0.313838550247117\n",
            "Epoch 24: Training Accuracy: 0.5457925281102648 Validation Accuracy: 0.3517298187808896\n",
            "Epoch 25: Training Accuracy: 0.6104461371055495 Validation Accuracy: 0.3245469522240527\n",
            "Epoch 26: Training Accuracy: 0.6459013420384476 Validation Accuracy: 0.3443163097199341\n",
            "Epoch 27: Training Accuracy: 0.642999637286906 Validation Accuracy: 0.328665568369028\n",
            "Epoch 28: Training Accuracy: 0.7154515778019587 Validation Accuracy: 0.3237232289950577\n",
            "Epoch 29: Training Accuracy: 0.7512694958287994 Validation Accuracy: 0.313838550247117\n",
            "Epoch 30: Training Accuracy: 0.7698585418933623 Validation Accuracy: 0.3171334431630972\n",
            "Epoch 31: Training Accuracy: 0.833696046427276 Validation Accuracy: 0.2940691927512356\n",
            "Epoch 32: Training Accuracy: 0.8801233224519405 Validation Accuracy: 0.30807248764415157\n",
            "Epoch 33: Training Accuracy: 0.8453935437069279 Validation Accuracy: 0.2825370675453048\n",
            "Epoch 34: Training Accuracy: 0.9131302140007255 Validation Accuracy: 0.30724876441515653\n"
          ]
        },
        {
          "output_type": "error",
          "ename": "KeyboardInterrupt",
          "evalue": "ignored",
          "traceback": [
            "\u001b[0;31m---------------------------------------------------------------------------\u001b[0m",
            "\u001b[0;31mKeyboardInterrupt\u001b[0m                         Traceback (most recent call last)",
            "\u001b[0;32m<ipython-input-9-0c0af2acb03b>\u001b[0m in \u001b[0;36m<module>\u001b[0;34m()\u001b[0m\n\u001b[1;32m     10\u001b[0m \u001b[0;34m\u001b[0m\u001b[0m\n\u001b[1;32m     11\u001b[0m \u001b[0;31m#Basic first attempt at training\u001b[0m\u001b[0;34m\u001b[0m\u001b[0;34m\u001b[0m\u001b[0;34m\u001b[0m\u001b[0m\n\u001b[0;32m---> 12\u001b[0;31m \u001b[0mtrain\u001b[0m\u001b[0;34m(\u001b[0m\u001b[0mmodel\u001b[0m\u001b[0;34m,\u001b[0m \u001b[0mtrain_set\u001b[0m\u001b[0;34m,\u001b[0m \u001b[0msize\u001b[0m\u001b[0;34m=\u001b[0m\u001b[0;36m32\u001b[0m\u001b[0;34m,\u001b[0m \u001b[0mnum_epochs\u001b[0m\u001b[0;34m=\u001b[0m\u001b[0;36m50\u001b[0m\u001b[0;34m,\u001b[0m \u001b[0mlearning_rate\u001b[0m\u001b[0;34m=\u001b[0m\u001b[0;36m0.002\u001b[0m\u001b[0;34m)\u001b[0m\u001b[0;34m\u001b[0m\u001b[0;34m\u001b[0m\u001b[0m\n\u001b[0m",
            "\u001b[0;32m<ipython-input-6-a005573d6df0>\u001b[0m in \u001b[0;36mtrain\u001b[0;34m(model, data, size, num_epochs, learning_rate)\u001b[0m\n\u001b[1;32m     10\u001b[0m     \u001b[0mn\u001b[0m \u001b[0;34m=\u001b[0m \u001b[0;36m0\u001b[0m \u001b[0;31m# the number of iterations\u001b[0m\u001b[0;34m\u001b[0m\u001b[0;34m\u001b[0m\u001b[0m\n\u001b[1;32m     11\u001b[0m     \u001b[0;32mfor\u001b[0m \u001b[0mepoch\u001b[0m \u001b[0;32min\u001b[0m \u001b[0mrange\u001b[0m\u001b[0;34m(\u001b[0m\u001b[0mnum_epochs\u001b[0m\u001b[0;34m)\u001b[0m\u001b[0;34m:\u001b[0m\u001b[0;34m\u001b[0m\u001b[0;34m\u001b[0m\u001b[0m\n\u001b[0;32m---> 12\u001b[0;31m         \u001b[0;32mfor\u001b[0m \u001b[0mimgs\u001b[0m\u001b[0;34m,\u001b[0m \u001b[0mlabels\u001b[0m \u001b[0;32min\u001b[0m \u001b[0miter\u001b[0m\u001b[0;34m(\u001b[0m\u001b[0mtrain_loader\u001b[0m\u001b[0;34m)\u001b[0m\u001b[0;34m:\u001b[0m\u001b[0;34m\u001b[0m\u001b[0;34m\u001b[0m\u001b[0m\n\u001b[0m\u001b[1;32m     13\u001b[0m \u001b[0;34m\u001b[0m\u001b[0m\n\u001b[1;32m     14\u001b[0m             \u001b[0;31m#############################################\u001b[0m\u001b[0;34m\u001b[0m\u001b[0;34m\u001b[0m\u001b[0;34m\u001b[0m\u001b[0m\n",
            "\u001b[0;32m/usr/local/lib/python3.7/dist-packages/torch/utils/data/dataloader.py\u001b[0m in \u001b[0;36m__next__\u001b[0;34m(self)\u001b[0m\n\u001b[1;32m    519\u001b[0m             \u001b[0;32mif\u001b[0m \u001b[0mself\u001b[0m\u001b[0;34m.\u001b[0m\u001b[0m_sampler_iter\u001b[0m \u001b[0;32mis\u001b[0m \u001b[0;32mNone\u001b[0m\u001b[0;34m:\u001b[0m\u001b[0;34m\u001b[0m\u001b[0;34m\u001b[0m\u001b[0m\n\u001b[1;32m    520\u001b[0m                 \u001b[0mself\u001b[0m\u001b[0;34m.\u001b[0m\u001b[0m_reset\u001b[0m\u001b[0;34m(\u001b[0m\u001b[0;34m)\u001b[0m\u001b[0;34m\u001b[0m\u001b[0;34m\u001b[0m\u001b[0m\n\u001b[0;32m--> 521\u001b[0;31m             \u001b[0mdata\u001b[0m \u001b[0;34m=\u001b[0m \u001b[0mself\u001b[0m\u001b[0;34m.\u001b[0m\u001b[0m_next_data\u001b[0m\u001b[0;34m(\u001b[0m\u001b[0;34m)\u001b[0m\u001b[0;34m\u001b[0m\u001b[0;34m\u001b[0m\u001b[0m\n\u001b[0m\u001b[1;32m    522\u001b[0m             \u001b[0mself\u001b[0m\u001b[0;34m.\u001b[0m\u001b[0m_num_yielded\u001b[0m \u001b[0;34m+=\u001b[0m \u001b[0;36m1\u001b[0m\u001b[0;34m\u001b[0m\u001b[0;34m\u001b[0m\u001b[0m\n\u001b[1;32m    523\u001b[0m             \u001b[0;32mif\u001b[0m \u001b[0mself\u001b[0m\u001b[0;34m.\u001b[0m\u001b[0m_dataset_kind\u001b[0m \u001b[0;34m==\u001b[0m \u001b[0m_DatasetKind\u001b[0m\u001b[0;34m.\u001b[0m\u001b[0mIterable\u001b[0m \u001b[0;32mand\u001b[0m\u001b[0;31m \u001b[0m\u001b[0;31m\\\u001b[0m\u001b[0;34m\u001b[0m\u001b[0;34m\u001b[0m\u001b[0m\n",
            "\u001b[0;32m/usr/local/lib/python3.7/dist-packages/torch/utils/data/dataloader.py\u001b[0m in \u001b[0;36m_next_data\u001b[0;34m(self)\u001b[0m\n\u001b[1;32m    559\u001b[0m     \u001b[0;32mdef\u001b[0m \u001b[0m_next_data\u001b[0m\u001b[0;34m(\u001b[0m\u001b[0mself\u001b[0m\u001b[0;34m)\u001b[0m\u001b[0;34m:\u001b[0m\u001b[0;34m\u001b[0m\u001b[0;34m\u001b[0m\u001b[0m\n\u001b[1;32m    560\u001b[0m         \u001b[0mindex\u001b[0m \u001b[0;34m=\u001b[0m \u001b[0mself\u001b[0m\u001b[0;34m.\u001b[0m\u001b[0m_next_index\u001b[0m\u001b[0;34m(\u001b[0m\u001b[0;34m)\u001b[0m  \u001b[0;31m# may raise StopIteration\u001b[0m\u001b[0;34m\u001b[0m\u001b[0;34m\u001b[0m\u001b[0m\n\u001b[0;32m--> 561\u001b[0;31m         \u001b[0mdata\u001b[0m \u001b[0;34m=\u001b[0m \u001b[0mself\u001b[0m\u001b[0;34m.\u001b[0m\u001b[0m_dataset_fetcher\u001b[0m\u001b[0;34m.\u001b[0m\u001b[0mfetch\u001b[0m\u001b[0;34m(\u001b[0m\u001b[0mindex\u001b[0m\u001b[0;34m)\u001b[0m  \u001b[0;31m# may raise StopIteration\u001b[0m\u001b[0;34m\u001b[0m\u001b[0;34m\u001b[0m\u001b[0m\n\u001b[0m\u001b[1;32m    562\u001b[0m         \u001b[0;32mif\u001b[0m \u001b[0mself\u001b[0m\u001b[0;34m.\u001b[0m\u001b[0m_pin_memory\u001b[0m\u001b[0;34m:\u001b[0m\u001b[0;34m\u001b[0m\u001b[0;34m\u001b[0m\u001b[0m\n\u001b[1;32m    563\u001b[0m             \u001b[0mdata\u001b[0m \u001b[0;34m=\u001b[0m \u001b[0m_utils\u001b[0m\u001b[0;34m.\u001b[0m\u001b[0mpin_memory\u001b[0m\u001b[0;34m.\u001b[0m\u001b[0mpin_memory\u001b[0m\u001b[0;34m(\u001b[0m\u001b[0mdata\u001b[0m\u001b[0;34m)\u001b[0m\u001b[0;34m\u001b[0m\u001b[0;34m\u001b[0m\u001b[0m\n",
            "\u001b[0;32m/usr/local/lib/python3.7/dist-packages/torch/utils/data/_utils/fetch.py\u001b[0m in \u001b[0;36mfetch\u001b[0;34m(self, possibly_batched_index)\u001b[0m\n\u001b[1;32m     47\u001b[0m     \u001b[0;32mdef\u001b[0m \u001b[0mfetch\u001b[0m\u001b[0;34m(\u001b[0m\u001b[0mself\u001b[0m\u001b[0;34m,\u001b[0m \u001b[0mpossibly_batched_index\u001b[0m\u001b[0;34m)\u001b[0m\u001b[0;34m:\u001b[0m\u001b[0;34m\u001b[0m\u001b[0;34m\u001b[0m\u001b[0m\n\u001b[1;32m     48\u001b[0m         \u001b[0;32mif\u001b[0m \u001b[0mself\u001b[0m\u001b[0;34m.\u001b[0m\u001b[0mauto_collation\u001b[0m\u001b[0;34m:\u001b[0m\u001b[0;34m\u001b[0m\u001b[0;34m\u001b[0m\u001b[0m\n\u001b[0;32m---> 49\u001b[0;31m             \u001b[0mdata\u001b[0m \u001b[0;34m=\u001b[0m \u001b[0;34m[\u001b[0m\u001b[0mself\u001b[0m\u001b[0;34m.\u001b[0m\u001b[0mdataset\u001b[0m\u001b[0;34m[\u001b[0m\u001b[0midx\u001b[0m\u001b[0;34m]\u001b[0m \u001b[0;32mfor\u001b[0m \u001b[0midx\u001b[0m \u001b[0;32min\u001b[0m \u001b[0mpossibly_batched_index\u001b[0m\u001b[0;34m]\u001b[0m\u001b[0;34m\u001b[0m\u001b[0;34m\u001b[0m\u001b[0m\n\u001b[0m\u001b[1;32m     50\u001b[0m         \u001b[0;32melse\u001b[0m\u001b[0;34m:\u001b[0m\u001b[0;34m\u001b[0m\u001b[0;34m\u001b[0m\u001b[0m\n\u001b[1;32m     51\u001b[0m             \u001b[0mdata\u001b[0m \u001b[0;34m=\u001b[0m \u001b[0mself\u001b[0m\u001b[0;34m.\u001b[0m\u001b[0mdataset\u001b[0m\u001b[0;34m[\u001b[0m\u001b[0mpossibly_batched_index\u001b[0m\u001b[0;34m]\u001b[0m\u001b[0;34m\u001b[0m\u001b[0;34m\u001b[0m\u001b[0m\n",
            "\u001b[0;32m/usr/local/lib/python3.7/dist-packages/torch/utils/data/_utils/fetch.py\u001b[0m in \u001b[0;36m<listcomp>\u001b[0;34m(.0)\u001b[0m\n\u001b[1;32m     47\u001b[0m     \u001b[0;32mdef\u001b[0m \u001b[0mfetch\u001b[0m\u001b[0;34m(\u001b[0m\u001b[0mself\u001b[0m\u001b[0;34m,\u001b[0m \u001b[0mpossibly_batched_index\u001b[0m\u001b[0;34m)\u001b[0m\u001b[0;34m:\u001b[0m\u001b[0;34m\u001b[0m\u001b[0;34m\u001b[0m\u001b[0m\n\u001b[1;32m     48\u001b[0m         \u001b[0;32mif\u001b[0m \u001b[0mself\u001b[0m\u001b[0;34m.\u001b[0m\u001b[0mauto_collation\u001b[0m\u001b[0;34m:\u001b[0m\u001b[0;34m\u001b[0m\u001b[0;34m\u001b[0m\u001b[0m\n\u001b[0;32m---> 49\u001b[0;31m             \u001b[0mdata\u001b[0m \u001b[0;34m=\u001b[0m \u001b[0;34m[\u001b[0m\u001b[0mself\u001b[0m\u001b[0;34m.\u001b[0m\u001b[0mdataset\u001b[0m\u001b[0;34m[\u001b[0m\u001b[0midx\u001b[0m\u001b[0;34m]\u001b[0m \u001b[0;32mfor\u001b[0m \u001b[0midx\u001b[0m \u001b[0;32min\u001b[0m \u001b[0mpossibly_batched_index\u001b[0m\u001b[0;34m]\u001b[0m\u001b[0;34m\u001b[0m\u001b[0;34m\u001b[0m\u001b[0m\n\u001b[0m\u001b[1;32m     50\u001b[0m         \u001b[0;32melse\u001b[0m\u001b[0;34m:\u001b[0m\u001b[0;34m\u001b[0m\u001b[0;34m\u001b[0m\u001b[0m\n\u001b[1;32m     51\u001b[0m             \u001b[0mdata\u001b[0m \u001b[0;34m=\u001b[0m \u001b[0mself\u001b[0m\u001b[0;34m.\u001b[0m\u001b[0mdataset\u001b[0m\u001b[0;34m[\u001b[0m\u001b[0mpossibly_batched_index\u001b[0m\u001b[0;34m]\u001b[0m\u001b[0;34m\u001b[0m\u001b[0;34m\u001b[0m\u001b[0m\n",
            "\u001b[0;32m/usr/local/lib/python3.7/dist-packages/torchvision/datasets/folder.py\u001b[0m in \u001b[0;36m__getitem__\u001b[0;34m(self, index)\u001b[0m\n\u001b[1;32m    230\u001b[0m         \"\"\"\n\u001b[1;32m    231\u001b[0m         \u001b[0mpath\u001b[0m\u001b[0;34m,\u001b[0m \u001b[0mtarget\u001b[0m \u001b[0;34m=\u001b[0m \u001b[0mself\u001b[0m\u001b[0;34m.\u001b[0m\u001b[0msamples\u001b[0m\u001b[0;34m[\u001b[0m\u001b[0mindex\u001b[0m\u001b[0;34m]\u001b[0m\u001b[0;34m\u001b[0m\u001b[0;34m\u001b[0m\u001b[0m\n\u001b[0;32m--> 232\u001b[0;31m         \u001b[0msample\u001b[0m \u001b[0;34m=\u001b[0m \u001b[0mself\u001b[0m\u001b[0;34m.\u001b[0m\u001b[0mloader\u001b[0m\u001b[0;34m(\u001b[0m\u001b[0mpath\u001b[0m\u001b[0;34m)\u001b[0m\u001b[0;34m\u001b[0m\u001b[0;34m\u001b[0m\u001b[0m\n\u001b[0m\u001b[1;32m    233\u001b[0m         \u001b[0;32mif\u001b[0m \u001b[0mself\u001b[0m\u001b[0;34m.\u001b[0m\u001b[0mtransform\u001b[0m \u001b[0;32mis\u001b[0m \u001b[0;32mnot\u001b[0m \u001b[0;32mNone\u001b[0m\u001b[0;34m:\u001b[0m\u001b[0;34m\u001b[0m\u001b[0;34m\u001b[0m\u001b[0m\n\u001b[1;32m    234\u001b[0m             \u001b[0msample\u001b[0m \u001b[0;34m=\u001b[0m \u001b[0mself\u001b[0m\u001b[0;34m.\u001b[0m\u001b[0mtransform\u001b[0m\u001b[0;34m(\u001b[0m\u001b[0msample\u001b[0m\u001b[0;34m)\u001b[0m\u001b[0;34m\u001b[0m\u001b[0;34m\u001b[0m\u001b[0m\n",
            "\u001b[0;32m/usr/local/lib/python3.7/dist-packages/torchvision/datasets/folder.py\u001b[0m in \u001b[0;36mdefault_loader\u001b[0;34m(path)\u001b[0m\n\u001b[1;32m    267\u001b[0m         \u001b[0;32mreturn\u001b[0m \u001b[0maccimage_loader\u001b[0m\u001b[0;34m(\u001b[0m\u001b[0mpath\u001b[0m\u001b[0;34m)\u001b[0m\u001b[0;34m\u001b[0m\u001b[0;34m\u001b[0m\u001b[0m\n\u001b[1;32m    268\u001b[0m     \u001b[0;32melse\u001b[0m\u001b[0;34m:\u001b[0m\u001b[0;34m\u001b[0m\u001b[0;34m\u001b[0m\u001b[0m\n\u001b[0;32m--> 269\u001b[0;31m         \u001b[0;32mreturn\u001b[0m \u001b[0mpil_loader\u001b[0m\u001b[0;34m(\u001b[0m\u001b[0mpath\u001b[0m\u001b[0;34m)\u001b[0m\u001b[0;34m\u001b[0m\u001b[0;34m\u001b[0m\u001b[0m\n\u001b[0m\u001b[1;32m    270\u001b[0m \u001b[0;34m\u001b[0m\u001b[0m\n\u001b[1;32m    271\u001b[0m \u001b[0;34m\u001b[0m\u001b[0m\n",
            "\u001b[0;32m/usr/local/lib/python3.7/dist-packages/torchvision/datasets/folder.py\u001b[0m in \u001b[0;36mpil_loader\u001b[0;34m(path)\u001b[0m\n\u001b[1;32m    247\u001b[0m \u001b[0;32mdef\u001b[0m \u001b[0mpil_loader\u001b[0m\u001b[0;34m(\u001b[0m\u001b[0mpath\u001b[0m\u001b[0;34m:\u001b[0m \u001b[0mstr\u001b[0m\u001b[0;34m)\u001b[0m \u001b[0;34m->\u001b[0m \u001b[0mImage\u001b[0m\u001b[0;34m.\u001b[0m\u001b[0mImage\u001b[0m\u001b[0;34m:\u001b[0m\u001b[0;34m\u001b[0m\u001b[0;34m\u001b[0m\u001b[0m\n\u001b[1;32m    248\u001b[0m     \u001b[0;31m# open path as file to avoid ResourceWarning (https://github.com/python-pillow/Pillow/issues/835)\u001b[0m\u001b[0;34m\u001b[0m\u001b[0;34m\u001b[0m\u001b[0;34m\u001b[0m\u001b[0m\n\u001b[0;32m--> 249\u001b[0;31m     \u001b[0;32mwith\u001b[0m \u001b[0mopen\u001b[0m\u001b[0;34m(\u001b[0m\u001b[0mpath\u001b[0m\u001b[0;34m,\u001b[0m \u001b[0;34m'rb'\u001b[0m\u001b[0;34m)\u001b[0m \u001b[0;32mas\u001b[0m \u001b[0mf\u001b[0m\u001b[0;34m:\u001b[0m\u001b[0;34m\u001b[0m\u001b[0;34m\u001b[0m\u001b[0m\n\u001b[0m\u001b[1;32m    250\u001b[0m         \u001b[0mimg\u001b[0m \u001b[0;34m=\u001b[0m \u001b[0mImage\u001b[0m\u001b[0;34m.\u001b[0m\u001b[0mopen\u001b[0m\u001b[0;34m(\u001b[0m\u001b[0mf\u001b[0m\u001b[0;34m)\u001b[0m\u001b[0;34m\u001b[0m\u001b[0;34m\u001b[0m\u001b[0m\n\u001b[1;32m    251\u001b[0m         \u001b[0;32mreturn\u001b[0m \u001b[0mimg\u001b[0m\u001b[0;34m.\u001b[0m\u001b[0mconvert\u001b[0m\u001b[0;34m(\u001b[0m\u001b[0;34m'RGB'\u001b[0m\u001b[0;34m)\u001b[0m\u001b[0;34m\u001b[0m\u001b[0;34m\u001b[0m\u001b[0m\n",
            "\u001b[0;31mKeyboardInterrupt\u001b[0m: "
          ]
        }
      ]
    }
  ]
}