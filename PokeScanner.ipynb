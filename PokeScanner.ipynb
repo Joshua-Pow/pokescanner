{
  "nbformat": 4,
  "nbformat_minor": 0,
  "metadata": {
    "colab": {
      "name": "PokeScanner.ipynb",
      "provenance": [],
      "collapsed_sections": []
    },
    "kernelspec": {
      "name": "python3",
      "display_name": "Python 3"
    },
    "language_info": {
      "name": "python"
    },
    "accelerator": "GPU"
  },
  "cells": [
    {
      "cell_type": "markdown",
      "source": [
        "### 1. Importing libraries / Data Loading and Splitting\n",
        "\n"
      ],
      "metadata": {
        "id": "-sqsjspqPsY1"
      }
    },
    {
      "cell_type": "code",
      "source": [
        "import numpy as np\n",
        "import torch\n",
        "import torch.nn as nn\n",
        "import torch.nn.functional as F\n",
        "import torch.optim as optim\n",
        "import torchvision\n",
        "import matplotlib.pyplot as plt\n",
        "\n",
        "from torchvision import datasets, models, transforms\n",
        "from os import rename, listdir, path\n",
        "import math\n",
        "import shutil\n",
        "\n",
        "torch.manual_seed(1) # set the random seed\n",
        "\n",
        "from google.colab import drive\n",
        "drive.mount('/content/gdrive', force_remount=True) #Must have folder inside drive called PokeScanner\n",
        "\n",
        "data_transform = transforms.Compose([\n",
        "    # you can add other transformations in this list\n",
        "    #transforms.Resize(250),\n",
        "    transforms.ToTensor()\n",
        "])"
      ],
      "metadata": {
        "id": "Ws6j7ioiPpHJ",
        "colab": {
          "base_uri": "https://localhost:8080/"
        },
        "outputId": "0b39b332-4c1c-4216-edbf-6963a469efa2"
      },
      "execution_count": null,
      "outputs": [
        {
          "output_type": "stream",
          "name": "stdout",
          "text": [
            "Mounted at /content/gdrive\n"
          ]
        }
      ]
    },
    {
      "cell_type": "code",
      "source": [
        "use_cuda = True\n",
        "# filePath = '/content/gdrive/MyDrive/PokeScanner' #Everyone has had this folder shared with them, Right click the folder and click \"Add shortcut to Drive\"\n",
        "\n",
        "# i = 0\n",
        "# j = 0\n",
        "# items = listdir(\"/content/gdrive/MyDrive/PokeScanner/PokemonDataCleaned\")\n",
        "# print(items)\n",
        "# for i in range (0, len(items)):\n",
        "#   if (os.path.isdir(\"/content/gdrive/MyDrive/PokeScanner/PokemonDataCleaned/\"+ items[i])):\n",
        "#     dirItems = listdir(\"/content/gdrive/MyDrive/PokeScanner/PokemonDataCleaned/\"+ items[i])\n",
        "#     trainingNumber = math.floor(len(dirItems) * 0.80) \n",
        "#     validationNumber = math.floor(len(dirItems) * 0.10)\n",
        "#     for j in range (0, len(dirItems)):\n",
        "#      if (os.path.isfile(\"/content/gdrive/MyDrive/PokeScanner/PokemonDataCleaned/\" + items[i] + \"/\" + dirItems[j])):\n",
        "#        if (j <= trainingNumber):\n",
        "#         shutil.copyfile(\"/content/gdrive/MyDrive/PokeScanner/PokemonDataCleaned/\" + items[i] + \"/\" + dirItems[j], \"/content/gdrive/MyDrive/PokeScanner/Training/\" + items[i] + \"/\" + dirItems[j])\n",
        "#        elif (j <= trainingNumber + validationNumber):\n",
        "#         shutil.copyfile(\"/content/gdrive/MyDrive/PokeScanner/PokemonDataCleaned/\" + items[i] + \"/\" + dirItems[j], \"/content/gdrive/MyDrive/PokeScanner/Validation/\" + items[i] + \"/\" + dirItems[j])\n",
        "#        else:\n",
        "#         shutil.copyfile(\"/content/gdrive/MyDrive/PokeScanner/PokemonDataCleaned/\" + items[i] + \"/\" + dirItems[j], \"/content/gdrive/MyDrive/PokeScanner/Testing/\" + items[i] + \"/\" + dirItems[j])\n",
        "\n",
        "# train_set = datasets.ImageFolder(\"/content/gdrive/MyDrive/PokeScanner/Training\")\n",
        "# validation_set = datasets.ImageFolder(\"/content/gdrive/MyDrive/PokeScanner/Validation\")\n",
        "# testing_set = datasets.ImageFolder(\"/content/gdrive/MyDrive/PokeScanner/Testing\")\n",
        "\n",
        "# print('Number of Training Images:', len(train_set))\n",
        "# print('Number of Validation Images:', len(validation_set))\n",
        "# print('Number of Testing Images:', len(testing_set))"
      ],
      "metadata": {
        "id": "4Kyp8HEg6iA1"
      },
      "execution_count": null,
      "outputs": []
    },
    {
      "cell_type": "code",
      "source": [
        "filePath = '/content/gdrive/MyDrive/PokeScanner' #Everyone has had this folder shared with them, Right click the folder and click \"Add shortcut to Drive\"\n",
        "train_set = datasets.ImageFolder(filePath+'/Training', transform=data_transform)\n",
        "validation_set = datasets.ImageFolder(filePath+'/Validation', transform=data_transform)\n",
        "testing_set = datasets.ImageFolder(filePath+'/Testing', transform=data_transform)"
      ],
      "metadata": {
        "id": "h6983FGSY0n9"
      },
      "execution_count": null,
      "outputs": []
    },
    {
      "cell_type": "markdown",
      "source": [
        "###2. Generating More Data"
      ],
      "metadata": {
        "id": "M6yrwikbUL7a"
      }
    },
    {
      "cell_type": "code",
      "source": [
        "# filePath = '/content/gdrive/MyDrive/PokeScanner/Training/'\n",
        "# items = listdir(filePath)\n",
        "\n",
        "# for i in range (0, len(items)):\n",
        "#   pokemonPath = filePath + items[i]\n",
        "#   pokeImages = listdir(pokemonPath)\n",
        "  \n",
        "#   for j in range (0, len(pokeImages)):\n",
        "#     image1 = Image.open(pokemonPath + \"/\" + pokeImages[j])\n",
        "#     image2 = image1.copy()\n",
        "#     image2 = image2.transpose(PIL.Image.FLIP_LEFT_RIGHT)\n",
        "\n",
        "#     fileName = pokeImages[j]\n",
        "#     pokemonName = fileName.split('.')\n",
        "#     image2.save(pokemonPath + \"/\" + pokemonName[0] + \"FH.jpg\")"
      ],
      "metadata": {
        "id": "8vcb_wnHVAKn"
      },
      "execution_count": null,
      "outputs": []
    },
    {
      "cell_type": "markdown",
      "source": [
        "### 3. Model Building and Sanity Checking\n",
        "\n",
        "Build a convolutional neural network model that takes the (224x224 RGB) image as input, and predicts the pokemon"
      ],
      "metadata": {
        "id": "BTGSzk07P2m_"
      }
    },
    {
      "cell_type": "code",
      "source": [
        "class PokemonClassifier(nn.Module):\n",
        "      def __init__(self, kernel_size):\n",
        "          super(PokemonClassifier, self).__init__()\n",
        "          self.conv1 = nn.Conv2d(3, 5, kernel_size) #in_channels, out_chanels, kernel_size\n",
        "          self.pool = nn.MaxPool2d(2, 2) #kernel_size, stride \n",
        "          self.conv2 = nn.Conv2d(5, 10, kernel_size) #in_channels, out_chanels, kernel_size\n",
        "          self.fc1 = nn.Linear(10*59*59, 32) #needs input-dependent value\n",
        "          self.fc2 = nn.Linear(32, 150)\n",
        "\n",
        "      def forward(self, x):\n",
        "          x = self.pool(F.relu(self.conv1(x)))\n",
        "          #print(x.shape)\n",
        "          x = self.pool(F.relu(self.conv2(x)))\n",
        "          #print(x.shape)\n",
        "          x = x.view(-1, 10*59*59)\n",
        "          #print(x.shape)\n",
        "          x = F.relu(self.fc1(x))\n",
        "          #print(x.shape)\n",
        "          x = self.fc2(x)\n",
        "          #print(x.shape)\n",
        "          return x"
      ],
      "metadata": {
        "id": "j8v_N94OP1LD"
      },
      "execution_count": null,
      "outputs": []
    },
    {
      "cell_type": "code",
      "source": [
        "#From tut3a\n",
        "def get_accuracy(model, accuracy_data, batch_size):\n",
        "    correct = 0\n",
        "    total = 0\n",
        "    for imgs, labels in torch.utils.data.DataLoader(accuracy_data, batch_size=batch_size):\n",
        "        \n",
        "        \n",
        "        #############################################\n",
        "        #To Enable GPU Usage\n",
        "        if use_cuda and torch.cuda.is_available():\n",
        "          imgs = imgs.cuda()\n",
        "          labels = labels.cuda()\n",
        "        else:\n",
        "          print(\"get_accuracy: no cuda\")\n",
        "        #############################################\n",
        "        \n",
        "        \n",
        "        output = model(imgs)\n",
        "        \n",
        "        #select index with maximum prediction score\n",
        "        pred = output.max(1, keepdim=True)[1]\n",
        "        correct += pred.eq(labels.view_as(pred)).sum().item()\n",
        "        total += imgs.shape[0]\n",
        "    return correct / total"
      ],
      "metadata": {
        "id": "W4tMq-H09Tpo"
      },
      "execution_count": null,
      "outputs": []
    },
    {
      "cell_type": "code",
      "source": [
        "#From tut3a\n",
        "def train(model, data, size, num_epochs, learning_rate):\n",
        "    train_loader = torch.utils.data.DataLoader(data, batch_size=size, shuffle=True)\n",
        "    criterion = nn.CrossEntropyLoss()\n",
        "    optimizer = optim.SGD(model.parameters(), lr=learning_rate, momentum=0.9)\n",
        "\n",
        "    iters, losses, train_acc, val_acc, epochList = [], [], [], [], []\n",
        "\n",
        "    # training\n",
        "    n = 0 # the number of iterations\n",
        "    for epoch in range(num_epochs):\n",
        "        for imgs, labels in iter(train_loader):\n",
        "\n",
        "            #############################################\n",
        "            #To Enable GPU Usage\n",
        "            if use_cuda and torch.cuda.is_available():\n",
        "              imgs = imgs.cuda()\n",
        "              labels = labels.cuda()\n",
        "            else:\n",
        "              print(\"Train: no cuda\")\n",
        "            #############################################\n",
        "            # print(\"img: \", imgs.shape)\n",
        "            # print(\"label: \", labels)\n",
        "            out = model(imgs)             # forward pass\n",
        "            \n",
        "            loss = criterion(out, labels) # compute the total loss\n",
        "            loss.backward()               # backward pass (compute parameter updates)\n",
        "            optimizer.step()              # make the updates for each parameter\n",
        "            optimizer.zero_grad()         # a clean up step for PyTorch\n",
        "\n",
        "            # save the current training information\n",
        "            iters.append(n)\n",
        "            losses.append(float(loss)/size)             # compute *average* loss\n",
        "            n += 1\n",
        "        train_acc.append(get_accuracy(model, accuracy_data=train_set, batch_size=size)) # compute training accuracy \n",
        "        val_acc.append(get_accuracy(model, accuracy_data=validation_set, batch_size=size))  # compute validation accuracy\n",
        "        epochList.append(epoch)\n",
        "        print(\"Epoch {}: Training Accuracy: {} Validation Accuracy: {}\".format(epoch, train_acc[epoch], val_acc[epoch]))\n",
        "    \n",
        "    # plotting\n",
        "    plt.title(\"Training Curve\")\n",
        "    plt.plot(iters, losses, label=\"Train\")\n",
        "    plt.xlabel(\"Iterations\")\n",
        "    plt.ylabel(\"Loss\")\n",
        "    plt.show()\n",
        "\n",
        "    plt.title(\"Training Curve\")\n",
        "    plt.plot(epochList, train_acc, label=\"Train\")\n",
        "    plt.plot(epochList, val_acc, label=\"Validation\")\n",
        "    plt.xlabel(\"Iterations\")\n",
        "    plt.ylabel(\"Training Accuracy\")\n",
        "    plt.legend(loc='best')\n",
        "    plt.show()\n",
        "\n",
        "    print(\"Final Training Accuracy: {}\".format(train_acc[-1]))\n",
        "    print(\"Final Validation Accuracy: {}\".format(val_acc[-1]))\n",
        "  \n"
      ],
      "metadata": {
        "id": "sorZBi_L9SdE"
      },
      "execution_count": null,
      "outputs": []
    },
    {
      "cell_type": "code",
      "source": [
        "model = PokemonClassifier(5)\n",
        "\n",
        "#proper model\n",
        "#############################################\n",
        "#To Enable GPU Usage\n",
        "if use_cuda and torch.cuda.is_available():\n",
        "  model.cuda()\n",
        "  print(\"cuda\")\n",
        "#############################################\n",
        "\n",
        "#Basic first attempt at training\n",
        "train(model, train_set, size=64, num_epochs=100, learning_rate=0.001)"
      ],
      "metadata": {
        "id": "9WDrZfbl9Yai",
        "colab": {
          "base_uri": "https://localhost:8080/"
        },
        "outputId": "55240732-971b-4368-f687-872dba5e8f24"
      },
      "execution_count": null,
      "outputs": [
        {
          "metadata": {
            "tags": null
          },
          "name": "stdout",
          "output_type": "stream",
          "text": [
            "cuda\n",
            "Epoch 0: Training Accuracy: 0.00961189698948132 Validation Accuracy: 0.0032948929159802307\n",
            "Epoch 1: Training Accuracy: 0.012513601741022852 Validation Accuracy: 0.011532125205930808\n",
            "Epoch 2: Training Accuracy: 0.012150888647080159 Validation Accuracy: 0.013179571663920923\n",
            "Epoch 3: Training Accuracy: 0.014508523757707652 Validation Accuracy: 0.016474464579901153\n",
            "Epoch 4: Training Accuracy: 0.012876314834965543 Validation Accuracy: 0.009884678747940691\n",
            "Epoch 5: Training Accuracy: 0.015233949945593036 Validation Accuracy: 0.016474464579901153\n",
            "Epoch 6: Training Accuracy: 0.025752629669931085 Validation Accuracy: 0.02471169686985173\n",
            "Epoch 7: Training Accuracy: 0.028291621327529923 Validation Accuracy: 0.023064250411861616\n",
            "Epoch 8: Training Accuracy: 0.043162858179180266 Validation Accuracy: 0.04118616144975288\n",
            "Epoch 9: Training Accuracy: 0.07635110627493652 Validation Accuracy: 0.057660626029654036\n",
            "Epoch 10: Training Accuracy: 0.09557490025389917 Validation Accuracy: 0.0757825370675453\n",
            "Epoch 11: Training Accuracy: 0.10935799782372144 Validation Accuracy: 0.07742998352553541\n",
            "Epoch 12: Training Accuracy: 0.1485310119695321 Validation Accuracy: 0.09390444810543658\n",
            "Epoch 13: Training Accuracy: 0.17899891186071817 Validation Accuracy: 0.11037891268533773\n",
            "Epoch 14: Training Accuracy: 0.20039898440333695 Validation Accuracy: 0.12685337726523888\n",
            "Epoch 15: Training Accuracy: 0.2546245919477693 Validation Accuracy: 0.1400329489291598\n",
            "Epoch 16: Training Accuracy: 0.2615161407326804 Validation Accuracy: 0.14827018121911037\n",
            "Epoch 17: Training Accuracy: 0.30123322451940515 Validation Accuracy: 0.13838550247116968\n",
            "Epoch 18: Training Accuracy: 0.33931809938338775 Validation Accuracy: 0.1696869851729819\n",
            "Epoch 19: Training Accuracy: 0.3498367791077258 Validation Accuracy: 0.1696869851729819\n",
            "Epoch 20: Training Accuracy: 0.41494377947043887 Validation Accuracy: 0.17792421746293247\n",
            "Epoch 21: Training Accuracy: 0.4842219804134929 Validation Accuracy: 0.20098846787479407\n",
            "Epoch 22: Training Accuracy: 0.5090678273485673 Validation Accuracy: 0.2026359143327842\n",
            "Epoch 23: Training Accuracy: 0.5433442147261516 Validation Accuracy: 0.2042833607907743\n",
            "Epoch 24: Training Accuracy: 0.6492564381574175 Validation Accuracy: 0.214168039538715\n",
            "Epoch 25: Training Accuracy: 0.7110990206746464 Validation Accuracy: 0.22405271828665568\n",
            "Epoch 26: Training Accuracy: 0.8164671744649982 Validation Accuracy: 0.23228995057660626\n",
            "Epoch 27: Training Accuracy: 0.8008705114254625 Validation Accuracy: 0.23228995057660626\n",
            "Epoch 28: Training Accuracy: 0.8824809575625681 Validation Accuracy: 0.22075782537067545\n",
            "Epoch 29: Training Accuracy: 0.9448676097207109 Validation Accuracy: 0.24382207578253706\n",
            "Epoch 30: Training Accuracy: 0.9508523757707653 Validation Accuracy: 0.23064250411861614\n",
            "Epoch 31: Training Accuracy: 0.9519405150525934 Validation Accuracy: 0.21911037891268534\n",
            "Epoch 32: Training Accuracy: 0.9923830250272034 Validation Accuracy: 0.23064250411861614\n",
            "Epoch 33: Training Accuracy: 0.9836779107725789 Validation Accuracy: 0.22405271828665568\n",
            "Epoch 34: Training Accuracy: 0.9978237214363439 Validation Accuracy: 0.23393739703459637\n",
            "Epoch 35: Training Accuracy: 0.9970982952484585 Validation Accuracy: 0.24052718286655683\n",
            "Epoch 36: Training Accuracy: 0.9985491476242292 Validation Accuracy: 0.25205930807248766\n",
            "Epoch 37: Training Accuracy: 0.9987305041712006 Validation Accuracy: 0.257001647446458\n",
            "Epoch 38: Training Accuracy: 0.9985491476242292 Validation Accuracy: 0.2553542009884679\n",
            "Epoch 39: Training Accuracy: 0.998911860718172 Validation Accuracy: 0.2372322899505766\n",
            "Epoch 40: Training Accuracy: 0.998911860718172 Validation Accuracy: 0.24052718286655683\n",
            "Epoch 41: Training Accuracy: 0.9990932172651432 Validation Accuracy: 0.24052718286655683\n",
            "Epoch 42: Training Accuracy: 0.9990932172651432 Validation Accuracy: 0.2355848434925865\n",
            "Epoch 43: Training Accuracy: 0.9990932172651432 Validation Accuracy: 0.2487644151565074\n",
            "Epoch 44: Training Accuracy: 0.998911860718172 Validation Accuracy: 0.2487644151565074\n",
            "Epoch 45: Training Accuracy: 0.9990932172651432 Validation Accuracy: 0.23887973640856672\n",
            "Epoch 46: Training Accuracy: 0.9990932172651432 Validation Accuracy: 0.2471169686985173\n",
            "Epoch 47: Training Accuracy: 0.9990932172651432 Validation Accuracy: 0.24546952224052718\n",
            "Epoch 48: Training Accuracy: 0.9990932172651432 Validation Accuracy: 0.24546952224052718\n",
            "Epoch 49: Training Accuracy: 0.9990932172651432 Validation Accuracy: 0.2504118616144975\n"
          ]
        }
      ]
    }
  ]
}