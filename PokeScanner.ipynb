{
  "nbformat": 4,
  "nbformat_minor": 0,
  "metadata": {
    "colab": {
      "name": "PokeScanner.ipynb",
      "provenance": [],
      "collapsed_sections": [],
      "include_colab_link": true
    },
    "kernelspec": {
      "name": "python3",
      "display_name": "Python 3"
    },
    "language_info": {
      "name": "python"
    }
  },
  "cells": [
    {
      "cell_type": "markdown",
      "metadata": {
        "id": "view-in-github",
        "colab_type": "text"
      },
      "source": [
        "<a href=\"https://colab.research.google.com/github/Joshua-Pow/pokescanner/blob/main/PokeScanner.ipynb\" target=\"_parent\"><img src=\"https://colab.research.google.com/assets/colab-badge.svg\" alt=\"Open In Colab\"/></a>"
      ]
    },
    {
      "cell_type": "markdown",
      "source": [
        "### 1. Importing libraries / Data Loading and Splitting\n",
        "\n"
      ],
      "metadata": {
        "id": "-sqsjspqPsY1"
      }
    },
    {
      "cell_type": "code",
      "source": [
        "import numpy as np\n",
        "import torch\n",
        "import torch.nn as nn\n",
        "import torch.nn.functional as F\n",
        "import torch.optim as optim\n",
        "import torchvision\n",
        "import matplotlib.pyplot as plt\n",
        "\n",
        "from torchvision import transforms\n",
        "\n",
        "from google.colab import drive\n",
        "drive.mount('/content/gdrive', force_remount=True)\n",
        "\n",
        "transform = transforms.Compose([\n",
        "    # you can add other transformations in this list\n",
        "    transforms.ToTensor()\n",
        "])"
      ],
      "metadata": {
        "id": "Ws6j7ioiPpHJ"
      },
      "execution_count": null,
      "outputs": []
    },
    {
      "cell_type": "markdown",
      "source": [
        "### 2. Model Building and Sanity Checking\n",
        "\n",
        "Build a convolutional neural network model that takes the (224x224 RGB) image as input, and predicts the pokemon"
      ],
      "metadata": {
        "id": "BTGSzk07P2m_"
      }
    },
    {
      "cell_type": "code",
      "source": [
        "class SignLanguageClassifier(nn.Module):\n",
        "      def __init__(self, kernel_size):\n",
        "          super(SignLanguageClassifier, self).__init__()\n",
        "          self.conv1 = nn.Conv2d(3, 2, kernel_size) #in_channels, out_chanels, kernel_size\n",
        "          self.pool = nn.MaxPool2d(2, 2) #kernel_size, stride \n",
        "          self.conv2 = nn.Conv2d(2, 2, kernel_size) #in_channels, out_chanels, kernel_size\n",
        "          self.fc1 = nn.Linear(5618, 32) #needs input-dependent value\n",
        "          self.fc2 = nn.Linear(32, 9)\n",
        "\n",
        "      def forward(self, x):\n",
        "          x = self.pool(F.relu(self.conv1(x)))\n",
        "          x = self.pool(F.relu(self.conv2(x)))\n",
        "          x = x.view(-1, 5618)\n",
        "          x = F.relu(self.fc1(x))\n",
        "          x = self.fc2(x)\n",
        "          return x"
      ],
      "metadata": {
        "id": "j8v_N94OP1LD"
      },
      "execution_count": null,
      "outputs": []
    },
    {
      "cell_type": "code",
      "execution_count": null,
      "metadata": {
        "id": "rVN2VKOY1Bjh"
      },
      "outputs": [],
      "source": [
        "#Hello World\n",
        "#Test Line"
      ]
    }
  ]
}